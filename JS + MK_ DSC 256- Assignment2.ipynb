{
 "cells": [
  {
   "cell_type": "markdown",
   "metadata": {},
   "source": [
    "### Joyce - Data Exploration, Literature Search, Features Selection\n",
    "\n",
    "#### Notes from Dr. McAuley in Tuesday 11/26 Lecture\n",
    "1. To ensure good performance on the recommender system (or predictive tasks, for this project) make sure to only extract DENSE sample of the dataset. Taking only the first 2000 rows OR randomizing data selection will likely result in finding SPARSE dataset sample. Data is not distributed evenly across the file(s). Recommender systems CANNOT use sparse sets, and it is generally recommended to choose dense dataset samples for predictive task models, as well. \n",
    "- The more dense a dataset is, the more features we can select for the model to implement, and overall make more accurate predictions.\n",
    "- Define dense: high volumes of user/ item activity\n",
    "\n",
    "\n",
    "2. Dr. McAuley requires an explanation for EACH data exploration step chosen, so I have included a `markdown` cell that accompanies each major exploration step to prove why XYZ step must be done. "
   ]
  },
  {
   "cell_type": "markdown",
   "metadata": {},
   "source": [
    "### Reviews Dataset: [UCSD Amazon Reviews 2023](https://amazon-reviews-2023.github.io/)\n",
    "- **Chosen dataset:** Amazon Electronics 2023, User Reviews (ratings, text, helpfulness votes, etc.)"
   ]
  },
  {
   "cell_type": "markdown",
   "metadata": {},
   "source": [
    "# Task 1: Identify a dataset, perform an exploratory analysis "
   ]
  },
  {
   "cell_type": "markdown",
   "metadata": {},
   "source": [
    "#### 1st Step to achieving Dr. McAuley's Criteria on obtaining ONLY dense rows: \n",
    "- Take a RANDOM sample of first 500,000 rows 7 GB dataset first, then conduct user and item density exploration. \n",
    "    - Reason: Data is NOT guaranteeed to be distributed evenly, so taking first 500,000 reviews can introduuce bia. There is no known sorting of dataset in any meaningful order (e.g., by title, timestamp, rating). \n",
    "- Read through `reviews`, count how many reviews each user and item have. \n",
    "    - Reason: To find the threshold of what it means to be \"dense\" or \"not dense\" (similar to Assignment 1's Task 1)"
   ]
  },
  {
   "cell_type": "code",
   "execution_count": 38,
   "metadata": {},
   "outputs": [
    {
     "name": "stdout",
     "output_type": "stream",
     "text": [
      "Total reviews processed: 500000\n",
      "Unique users: 94898\n",
      "Unique items: 206028\n",
      "Top 10 user review counts: [1034, 820, 764, 699, 592, 574, 563, 492, 417, 412]\n",
      "Top 10 item review counts: [5007, 1746, 1256, 1145, 864, 845, 813, 746, 573, 563]\n"
     ]
    }
   ],
   "source": [
    "import numpy as np\n",
    "import pandas as pd\n",
    "import json\n",
    "import gzip\n",
    "import random\n",
    "from collections import defaultdict\n",
    "import matplotlib.pyplot as plt\n",
    "import seaborn as sns\n",
    "\n",
    "# since Amazon Electronics `review` dataset is ~ 7GB, must first split into chunks to process, then randomly extract 500,000\n",
    "sample_size = 500000\n",
    "chunk_size = 50000  # MEMORY-EFFICIENT, loads 5k rows at a time instead of ENTIRE 7 GB dataset\n",
    "\n",
    "# containers to store the review counts per user and item\n",
    "user_review_counts = defaultdict(int)\n",
    "item_review_counts = defaultdict(int)\n",
    "\n",
    "sampled_reviews = []\n",
    "\n",
    "review_count = 0  # counter for total reviews processed\n",
    "\n",
    "with gzip.open('/Users/mengkong/Library/CloudStorage/GoogleDrive-maun@ucsd.edu/My Drive/Fall 2024/DSC256 - Data Mining /Assignment 2/Electronics.jsonl.gz', 'rt', encoding='utf-8') as fp:\n",
    "    chunk = []\n",
    "    for line in fp:\n",
    "        review = json.loads(line.strip())\n",
    "    \n",
    "        user_review_counts[review['user_id']] += 1  # track count of reviews per user and item\n",
    "        item_review_counts[review['asin']] += 1\n",
    "        \n",
    "        chunk.append(review)\n",
    "        \n",
    "        # get the chunk, sample, and reset chunk list\n",
    "        if len(chunk) >= chunk_size:\n",
    "            sampled_reviews.extend(random.sample(chunk, min(chunk_size, sample_size - len(sampled_reviews))))\n",
    "            review_count += len(chunk)\n",
    "            \n",
    "            if len(sampled_reviews) >= sample_size:\n",
    "                break\n",
    "            chunk = []  # clear chunk for next batch\n",
    "\n",
    "# find total number of reviews processed in the sample\n",
    "review_count = len(sampled_reviews)\n",
    "\n",
    "# unique users & items in sampled data\n",
    "unique_users = set([review['user_id'] for review in sampled_reviews])\n",
    "unique_items = set([review['asin'] for review in sampled_reviews])\n",
    "\n",
    "# BASIC STATISTICS\n",
    "print(f\"Total reviews processed: {review_count}\")\n",
    "print(f\"Unique users: {len(unique_users)}\")\n",
    "print(f\"Unique items: {len(unique_items)}\")\n",
    "\n",
    "# find distribution of review counts for users and items\n",
    "user_review_distribution = sorted(user_review_counts.values(), reverse=True)\n",
    "item_review_distribution = sorted(item_review_counts.values(), reverse=True)\n",
    "\n",
    "# show basic statistics on the distribution (top 10 for both categories)\n",
    "print(f\"Top 10 user review counts: {user_review_distribution[:10]}\")\n",
    "print(f\"Top 10 item review counts: {item_review_distribution[:10]}\")\n",
    "\n",
    "\n",
    "# 1st attempt, taking first 500k rows instead of random sampling \n",
    "# Total reviews processed: 500000\n",
    "# Unique users: 94898\n",
    "# Unique items: 206028\n",
    "# Top 10 user review counts: [1034, 820, 764, 699, 592, 574, 563, 492, 417, 412]\n",
    "# Top 10 item review counts: [5007, 1746, 1256, 1145, 864, 845, 813, 746, 573, 563]\n",
    "# Conclusion: about the same results!\n"
   ]
  },
  {
   "cell_type": "markdown",
   "metadata": {},
   "source": [
    "#### Findings for 1st Step\n",
    "**Total # of users:** 94,898 users\n",
    "**Total # of items:** 206,028 items\n",
    "\n",
    "**Top 10 users:** 412 - 1034 reviews (highest count: 1034 reviews)\n",
    "- Analysis: **few very active user**, while majority of users have far fewer reviews. Most users likely have much lower activity, given that the unique users number is around 95,000.\n",
    "Item Review Counts:\n",
    "\n",
    "**Top 10 items:** 563 - 5007 reviews (most-reviewed item: 5007 reviews, which is significantly larger than the rest [outlier])\n",
    "- Analysis, just like for the top 10 users, there are few popular items, while majority of items have fewer reviews."
   ]
  },
  {
   "cell_type": "markdown",
   "metadata": {},
   "source": [
    "#### 2nd Step: Testing out DENSITY Thresholds based on PERCENTILES\n",
    "Adjust activity thresholds based on distribution to filter out **SPARSE** data. \n",
    "- **Choice of percentiles:** \n",
    "    - Users in the 90th percentile of reviews or more (Top 10%; common default percentile to use)\n",
    "    - Items in the 80th percentile or more (Top 20%; common default percentile to use)"
   ]
  },
  {
   "cell_type": "code",
   "execution_count": 39,
   "metadata": {},
   "outputs": [
    {
     "name": "stdout",
     "output_type": "stream",
     "text": [
      "Top 10% of users have __ or more reviews: 11\n",
      "Top 20% of items have __ or more reviews on it: 2\n"
     ]
    }
   ],
   "source": [
    "user_90th_percentile = sorted(user_review_counts.values())[(int(0.9 * len(user_review_counts)))]\n",
    "item_80th_percentile = sorted(item_review_counts.values())[(int(0.8 * len(item_review_counts)))]\n",
    "print(f\"Top 10% of users have __ or more reviews: {user_90th_percentile}\")\n",
    "print(f\"Top 20% of items have __ or more reviews on it: {item_80th_percentile}\")"
   ]
  },
  {
   "cell_type": "markdown",
   "metadata": {},
   "source": [
    "#### Findings for Step 2\n",
    "Users (90th percentile) = 11 reviews\n",
    "- Using threshold of 11 reviews, this will keep only the most ACTIVE (dense!) 10% of users in finalized dataset.\n",
    "- The more active a user is, the more likely they are very engaged consumers for Amazon Electronics thus provide more useful data for our predictive models.\n",
    "\n",
    "Items (80th percentile): 2 reviews\n",
    "- Using threshold of 2 reviews per item, this will keep only the top 20% of items in finalized dataset.\n",
    "- In our terms, items < 2 reviews = SPARSE data, not good enough to build a predictive task model. "
   ]
  },
  {
   "cell_type": "markdown",
   "metadata": {},
   "source": [
    "**Plan of action:** Filter out users < 11 created reviews + items with fewer than 2 reviews, so that our finalized dataset will only have reviews based on more well-reviewed items. "
   ]
  },
  {
   "cell_type": "markdown",
   "metadata": {},
   "source": [
    "#### 3rd Step: Test out even HIGHER Percentiles to target MOST active users, Creation of our finalized `reviews` dataset, called `filtered_reviews`"
   ]
  },
  {
   "cell_type": "code",
   "execution_count": 40,
   "metadata": {},
   "outputs": [
    {
     "name": "stdout",
     "output_type": "stream",
     "text": [
      "Filtered dataset size: 20000\n",
      "Unique users in filtered dataset: 1626\n",
      "Unique items in filtered dataset: 7333\n",
      "Top 10 User Review Counts: [1034, 820, 764, 699, 592, 574, 563, 492, 417, 412]\n",
      "Top 10 Item Review Counts: [5007, 1746, 1256, 1145, 864, 845, 813, 746, 573, 563]\n",
      "\n",
      "Top 10 Users (user_id, review_count):\n",
      "user_id: AEIIRIHLIYKQGI7ZOCIJTRDF5NPQ, reviews: 1034\n",
      "user_id: AFTZWAK3ZHAPCNSOT5GCKQDECBTQ, reviews: 820\n",
      "user_id: AECTQQX663PTF5UQ2RA5TUL3BXVQ, reviews: 764\n",
      "user_id: AGUTZC4GHLTGYHA3KBEDRF6MHB6A, reviews: 699\n",
      "user_id: AG73BVBKUOH22USSFJA5ZWL7AKXA, reviews: 592\n",
      "user_id: AGZZXSMMS4WRHHJRBUJZI4FZDHKQ, reviews: 574\n",
      "user_id: AG375WAXLZ7PIOQKIQ6KQB4J3JVQ, reviews: 563\n",
      "user_id: AHDZKPPKUT7HD47LXCBN7RQNN6KQ, reviews: 492\n",
      "user_id: AGBG3KK74IKWJNQVMQAGVBWJ7FAQ, reviews: 417\n",
      "user_id: AGDSEYGSA5K664EUHWKV3ARDXO2Q, reviews: 412\n",
      "\n",
      "Top 10 Items (asin, review_count):\n",
      "asin: B01G8JO5F2, reviews: 5007\n",
      "asin: B00ZV9RDKK, reviews: 1746\n",
      "asin: B079QHML21, reviews: 1256\n",
      "asin: B01DFKC2SO, reviews: 1145\n",
      "asin: B013J7WUGC, reviews: 864\n",
      "asin: B07FZ8S74R, reviews: 845\n",
      "asin: B0791TX5P5, reviews: 813\n",
      "asin: B00TSUGXKE, reviews: 746\n",
      "asin: B010OYASRG, reviews: 573\n",
      "asin: B01MZEEFNX, reviews: 563\n"
     ]
    }
   ],
   "source": [
    "user_95th_percentile = np.percentile(list(user_review_counts.values()), 95)\n",
    "item_95th_percentile = np.percentile(list(item_review_counts.values()), 95)\n",
    "\n",
    "filtered_reviews = []\n",
    "\n",
    "for review in sampled_reviews:\n",
    "    # only keep reviews for users and items above the 95th percentile thresholds\n",
    "    if user_review_counts[review['user_id']] >= user_95th_percentile and \\\n",
    "       item_review_counts[review['asin']] >= item_95th_percentile:\n",
    "        filtered_reviews.append(review)\n",
    "    \n",
    "    # cap at 20,000 reviews\n",
    "    if len(filtered_reviews) >= 20000:\n",
    "        break\n",
    "\n",
    "filtered_review_count = len(filtered_reviews)\n",
    "unique_users_filtered = set(review['user_id'] for review in filtered_reviews)\n",
    "unique_items_filtered = set(review['asin'] for review in filtered_reviews)\n",
    "\n",
    "# BASIC STATS\n",
    "print(f\"Filtered dataset size: {filtered_review_count}\")\n",
    "print(f\"Unique users in filtered dataset: {len(unique_users_filtered)}\")\n",
    "print(f\"Unique items in filtered dataset: {len(unique_items_filtered)}\")\n",
    "\n",
    "# get top 10 users and items based on review counts\n",
    "top_10_users = sorted(user_review_counts.items(), key=lambda x: x[1], reverse=True)[:10]\n",
    "top_10_items = sorted(item_review_counts.items(), key=lambda x: x[1], reverse=True)[:10]\n",
    "\n",
    "top_user_review_counts = [count for user, count in top_10_users]\n",
    "top_item_review_counts = [count for item, count in top_10_items]\n",
    "\n",
    "print(\"Top 10 User Review Counts:\", top_user_review_counts)\n",
    "print(\"Top 10 Item Review Counts:\", top_item_review_counts)\n",
    "\n",
    "# find user_id's and ASINs of the top 10 users and items\n",
    "print(\"\\nTop 10 Users (user_id, review_count):\")\n",
    "for user, count in top_10_users:\n",
    "    print(f\"user_id: {user}, reviews: {count}\")\n",
    "\n",
    "print(\"\\nTop 10 Items (asin, review_count):\")\n",
    "for item, count in top_10_items:\n",
    "    print(f\"asin: {item}, reviews: {count}\")"
   ]
  },
  {
   "cell_type": "markdown",
   "metadata": {},
   "source": [
    "# `final_df` Exploration starts here\n",
    "- aka pandas ver of `filtered_reviews`\n",
    "- Reason for turning list into Pandas dataframe `final_df`: predictive task models typically use user-item interaction matrix, so this can be easily transformed with Pandas df\n",
    "    - Additionally, if using user-based or item-based collaborative filtering, we can more easily do feature extraction from a Pandas df than a list. "
   ]
  },
  {
   "cell_type": "code",
   "execution_count": 41,
   "metadata": {},
   "outputs": [
    {
     "name": "stdout",
     "output_type": "stream",
     "text": [
      "Index(['rating', 'title', 'text', 'images', 'asin', 'parent_asin', 'user_id',\n",
      "       'timestamp', 'helpful_vote', 'verified_purchase'],\n",
      "      dtype='object')\n",
      "rating                                                             5.0\n",
      "title                                               Ceihoit Quality 😘🥰\n",
      "text                 [[VIDEOID:adf8cc9df284ad3730dcb90cd98a2007]] S...\n",
      "images               [{'small_image_url': 'https://images-na.ssl-im...\n",
      "asin                                                        B081PR9BGB\n",
      "parent_asin                                                 B0C2YWQP1J\n",
      "user_id                                   AFKCQF2WAV66NHZUVSNJNTGVHUOA\n",
      "timestamp                                                1610133682459\n",
      "helpful_vote                                                         0\n",
      "verified_purchase                                                 True\n",
      "Name: 0, dtype: object\n",
      "{'rating': 5.0, 'title': 'Ceihoit Quality 😘🥰', 'text': \"[[VIDEOID:adf8cc9df284ad3730dcb90cd98a2007]] So far, this is a great video player by Ceihoit.  Quality of the picture is superb and it's easy to set up 🤗🤗.  I took pictures of my smart TV; to give you a shot of it's quality.  Highly recommend 👌👌👍👍\", 'images': [{'small_image_url': 'https://images-na.ssl-images-amazon.com/images/I/814jU6-h3uL._SL256_.jpg', 'medium_image_url': 'https://images-na.ssl-images-amazon.com/images/I/814jU6-h3uL._SL800_.jpg', 'large_image_url': 'https://images-na.ssl-images-amazon.com/images/I/814jU6-h3uL._SL1600_.jpg', 'attachment_type': 'IMAGE'}, {'small_image_url': 'https://images-na.ssl-images-amazon.com/images/I/81d8TRelb1L._SL256_.jpg', 'medium_image_url': 'https://images-na.ssl-images-amazon.com/images/I/81d8TRelb1L._SL800_.jpg', 'large_image_url': 'https://images-na.ssl-images-amazon.com/images/I/81d8TRelb1L._SL1600_.jpg', 'attachment_type': 'IMAGE'}, {'small_image_url': 'https://images-na.ssl-images-amazon.com/images/I/81p3yony6kL._SL256_.jpg', 'medium_image_url': 'https://images-na.ssl-images-amazon.com/images/I/81p3yony6kL._SL800_.jpg', 'large_image_url': 'https://images-na.ssl-images-amazon.com/images/I/81p3yony6kL._SL1600_.jpg', 'attachment_type': 'IMAGE'}], 'asin': 'B081PR9BGB', 'parent_asin': 'B0C2YWQP1J', 'user_id': 'AFKCQF2WAV66NHZUVSNJNTGVHUOA', 'timestamp': 1610133682459, 'helpful_vote': 0, 'verified_purchase': True}\n"
     ]
    }
   ],
   "source": [
    "final_df = pd.DataFrame(filtered_reviews)\n",
    "print(final_df.columns)\n",
    "print(final_df.iloc[0])\n",
    "print(filtered_reviews[0])"
   ]
  },
  {
   "cell_type": "code",
   "execution_count": 42,
   "metadata": {},
   "outputs": [
    {
     "name": "stdout",
     "output_type": "stream",
     "text": [
      "<class 'pandas.core.frame.DataFrame'>\n",
      "RangeIndex: 20000 entries, 0 to 19999\n",
      "Data columns (total 10 columns):\n",
      " #   Column             Non-Null Count  Dtype  \n",
      "---  ------             --------------  -----  \n",
      " 0   rating             20000 non-null  float64\n",
      " 1   title              20000 non-null  object \n",
      " 2   text               20000 non-null  object \n",
      " 3   images             20000 non-null  object \n",
      " 4   asin               20000 non-null  object \n",
      " 5   parent_asin        20000 non-null  object \n",
      " 6   user_id            20000 non-null  object \n",
      " 7   timestamp          20000 non-null  int64  \n",
      " 8   helpful_vote       20000 non-null  int64  \n",
      " 9   verified_purchase  20000 non-null  bool   \n",
      "dtypes: bool(1), float64(1), int64(2), object(6)\n",
      "memory usage: 1.4+ MB\n",
      "None\n",
      "             rating     timestamp  helpful_vote\n",
      "count  20000.000000  2.000000e+04  20000.000000\n",
      "mean       4.337200  1.509515e+12      2.850200\n",
      "std        1.145584  9.177040e+10     59.025714\n",
      "min        1.000000  1.053358e+12      0.000000\n",
      "25%        4.000000  1.444134e+12      0.000000\n",
      "50%        5.000000  1.515524e+12      0.000000\n",
      "75%        5.000000  1.578808e+12      0.000000\n",
      "max        5.000000  1.679035e+12   6386.000000\n"
     ]
    }
   ],
   "source": [
    "print(final_df.info())\n",
    "print(final_df.describe())"
   ]
  },
  {
   "cell_type": "code",
   "execution_count": 43,
   "metadata": {},
   "outputs": [
    {
     "name": "stdout",
     "output_type": "stream",
     "text": [
      "rating               0\n",
      "title                0\n",
      "text                 0\n",
      "images               0\n",
      "asin                 0\n",
      "parent_asin          0\n",
      "user_id              0\n",
      "timestamp            0\n",
      "helpful_vote         0\n",
      "verified_purchase    0\n",
      "dtype: int64\n"
     ]
    }
   ],
   "source": [
    "# check for missing or NaN values - Perfect! No missing values\n",
    "print(final_df.isnull().sum())\n"
   ]
  },
  {
   "cell_type": "code",
   "execution_count": 44,
   "metadata": {},
   "outputs": [
    {
     "name": "stdout",
     "output_type": "stream",
     "text": [
      "Top 10 active users in finalized dataset:\n",
      "AECTQQX663PTF5UQ2RA5TUL3BXVQ    107\n",
      "AG73BVBKUOH22USSFJA5ZWL7AKXA     87\n",
      "AG63W2BMC4HRP76AMS36AYY64AHA     86\n",
      "AHYI3O22APDQVJ3CXEJRHUYYR2BA     84\n",
      "AFQNHDM5U3PICULYQWZWXFP7XHQA     80\n",
      "AENH6LSB6BM7XLPEYUL43WBOD6JA     76\n",
      "AF4FNLSTWH3RCJD52W7TZTQOM73A     76\n",
      "AF4OCZTPFHXZKUTAGP6CAOCMWPAA     73\n",
      "AFZUK3MTBIBEDQOPAK3OATUOUKLA     72\n",
      "AE4SX2IMZGVQSS5SFWP6NEE2HQ4Q     72\n",
      "Name: user_id, dtype: int64\n"
     ]
    }
   ],
   "source": [
    "# top 10 most active users in `final_df`\n",
    "top_users = final_df['user_id'].value_counts().head(10)\n",
    "print(\"Top 10 active users in finalized dataset:\")\n",
    "print(top_users)\n"
   ]
  },
  {
   "cell_type": "code",
   "execution_count": 45,
   "metadata": {},
   "outputs": [
    {
     "name": "stdout",
     "output_type": "stream",
     "text": [
      "Top 10 most reviewed (popular) items in finalized dataset:\n",
      "B00ZV9RDKK    95\n",
      "B079QHML21    92\n",
      "B01DFKC2SO    87\n",
      "B01MZEEFNX    53\n",
      "B00TSUGXKE    49\n",
      "B07FZ8S74R    46\n",
      "B0791TX5P5    44\n",
      "B0043T7FXE    43\n",
      "B00CX5P8FC    42\n",
      "B015TJD0Y4    40\n",
      "Name: asin, dtype: int64\n"
     ]
    }
   ],
   "source": [
    "# top 10 most reviewed items (ASIN)\n",
    "top_items = final_df['asin'].value_counts().head(10)\n",
    "print(\"Top 10 most reviewed (popular) items in finalized dataset:\")\n",
    "print(top_items)"
   ]
  },
  {
   "cell_type": "code",
   "execution_count": 46,
   "metadata": {},
   "outputs": [
    {
     "name": "stdout",
     "output_type": "stream",
     "text": [
      "Top 10 Products by Average Rating:\n",
      "asin\n",
      "0062970704    5.0\n",
      "B01L94ZOH4    5.0\n",
      "B0143HBZMW    5.0\n",
      "B0140IQX6W    5.0\n",
      "B013X9JBMC    5.0\n",
      "B013W0ARNY    5.0\n",
      "B013UJAZY8    5.0\n",
      "B013TMNNDQ    5.0\n",
      "B013TMN4GW    5.0\n",
      "B013PKPP24    5.0\n",
      "Name: rating, dtype: float64\n"
     ]
    }
   ],
   "source": [
    "# find average rating by product (ASIN)\n",
    "avg_ratings_per_item = final_df.groupby('asin')['rating'].mean().sort_values(ascending=False).head(10)\n",
    "print(\"Top 10 Products by Average Rating:\")\n",
    "print(avg_ratings_per_item)\n"
   ]
  },
  {
   "cell_type": "code",
   "execution_count": 47,
   "metadata": {},
   "outputs": [
    {
     "name": "stdout",
     "output_type": "stream",
     "text": [
      "count    20000.000000\n",
      "mean       404.017200\n",
      "std        624.276238\n",
      "min          1.000000\n",
      "25%         72.000000\n",
      "50%        200.000000\n",
      "75%        480.000000\n",
      "max      15007.000000\n",
      "Name: review_length, dtype: float64\n"
     ]
    }
   ],
   "source": [
    "# find length of each review\n",
    "final_df['review_length'] = final_df['text'].apply(len)\n",
    "print(final_df['review_length'].describe())"
   ]
  },
  {
   "cell_type": "code",
   "execution_count": 48,
   "metadata": {},
   "outputs": [
    {
     "name": "stdout",
     "output_type": "stream",
     "text": [
      "Average Rating by Verified Purchase Status:\n",
      "verified_purchase\n",
      "False    4.213365\n",
      "True     4.355370\n",
      "Name: rating, dtype: float64\n"
     ]
    }
   ],
   "source": [
    "# compare ratings of verified vs non-verified purchases\n",
    "verified_vs_non_verified = final_df.groupby('verified_purchase')['rating'].mean()\n",
    "print(\"Average Rating by Verified Purchase Status:\")\n",
    "print(verified_vs_non_verified)\n"
   ]
  },
  {
   "cell_type": "markdown",
   "metadata": {},
   "source": [
    "## Visualizations"
   ]
  },
  {
   "cell_type": "markdown",
   "metadata": {},
   "source": [
    "#### Temporal Visualizations\n",
    "- 1st visual below is **INTERACTIVE**! Please hover your mouse over each datapoint to find more information. "
   ]
  },
  {
   "cell_type": "code",
   "execution_count": 49,
   "metadata": {},
   "outputs": [
    {
     "data": {
      "application/vnd.plotly.v1+json": {
       "config": {
        "plotlyServerURL": "https://plot.ly"
       },
       "data": [
        {
         "hovertemplate": "Date: %{x}<br>Reviews: %{y}",
         "legendgroup": "",
         "line": {
          "color": "#636efa",
          "dash": "solid"
         },
         "marker": {
          "symbol": "circle"
         },
         "mode": "markers+lines",
         "name": "",
         "orientation": "v",
         "showlegend": false,
         "type": "scatter",
         "x": [
          "2003-05",
          "2004-04",
          "2004-05",
          "2004-06",
          "2004-07",
          "2004-08",
          "2004-10",
          "2004-11",
          "2004-12",
          "2005-07",
          "2005-10",
          "2006-01",
          "2006-05",
          "2006-06",
          "2006-08",
          "2006-09",
          "2006-12",
          "2007-01",
          "2007-03",
          "2007-05",
          "2007-07",
          "2007-09",
          "2007-10",
          "2007-11",
          "2007-12",
          "2008-02",
          "2008-03",
          "2008-04",
          "2008-05",
          "2008-06",
          "2008-07",
          "2008-08",
          "2008-09",
          "2008-10",
          "2008-11",
          "2008-12",
          "2009-01",
          "2009-02",
          "2009-03",
          "2009-04",
          "2009-05",
          "2009-06",
          "2009-07",
          "2009-08",
          "2009-09",
          "2009-10",
          "2009-11",
          "2009-12",
          "2010-01",
          "2010-02",
          "2010-03",
          "2010-04",
          "2010-05",
          "2010-06",
          "2010-07",
          "2010-08",
          "2010-09",
          "2010-10",
          "2010-11",
          "2010-12",
          "2011-01",
          "2011-02",
          "2011-03",
          "2011-04",
          "2011-05",
          "2011-06",
          "2011-07",
          "2011-08",
          "2011-09",
          "2011-10",
          "2011-11",
          "2011-12",
          "2012-01",
          "2012-02",
          "2012-03",
          "2012-04",
          "2012-05",
          "2012-06",
          "2012-07",
          "2012-08",
          "2012-09",
          "2012-10",
          "2012-11",
          "2012-12",
          "2013-01",
          "2013-02",
          "2013-03",
          "2013-04",
          "2013-05",
          "2013-06",
          "2013-07",
          "2013-08",
          "2013-09",
          "2013-10",
          "2013-11",
          "2013-12",
          "2014-01",
          "2014-02",
          "2014-03",
          "2014-04",
          "2014-05",
          "2014-06",
          "2014-07",
          "2014-08",
          "2014-09",
          "2014-10",
          "2014-11",
          "2014-12",
          "2015-01",
          "2015-02",
          "2015-03",
          "2015-04",
          "2015-05",
          "2015-06",
          "2015-07",
          "2015-08",
          "2015-09",
          "2015-10",
          "2015-11",
          "2015-12",
          "2016-01",
          "2016-02",
          "2016-03",
          "2016-04",
          "2016-05",
          "2016-06",
          "2016-07",
          "2016-08",
          "2016-09",
          "2016-10",
          "2016-11",
          "2016-12",
          "2017-01",
          "2017-02",
          "2017-03",
          "2017-04",
          "2017-05",
          "2017-06",
          "2017-07",
          "2017-08",
          "2017-09",
          "2017-10",
          "2017-11",
          "2017-12",
          "2018-01",
          "2018-02",
          "2018-03",
          "2018-04",
          "2018-05",
          "2018-06",
          "2018-07",
          "2018-08",
          "2018-09",
          "2018-10",
          "2018-11",
          "2018-12",
          "2019-01",
          "2019-02",
          "2019-03",
          "2019-04",
          "2019-05",
          "2019-06",
          "2019-07",
          "2019-08",
          "2019-09",
          "2019-10",
          "2019-11",
          "2019-12",
          "2020-01",
          "2020-02",
          "2020-03",
          "2020-04",
          "2020-05",
          "2020-06",
          "2020-07",
          "2020-08",
          "2020-09",
          "2020-10",
          "2020-11",
          "2020-12",
          "2021-01",
          "2021-02",
          "2021-03",
          "2021-04",
          "2021-05",
          "2021-06",
          "2021-07",
          "2021-08",
          "2021-09",
          "2021-10",
          "2021-11",
          "2021-12",
          "2022-01",
          "2022-02",
          "2022-03",
          "2022-04",
          "2022-05",
          "2022-06",
          "2022-07",
          "2022-08",
          "2022-09",
          "2022-10",
          "2022-11",
          "2022-12",
          "2023-01",
          "2023-02",
          "2023-03"
         ],
         "xaxis": "x",
         "y": [
          1,
          2,
          1,
          1,
          1,
          1,
          1,
          1,
          1,
          1,
          1,
          1,
          1,
          1,
          1,
          1,
          3,
          1,
          1,
          3,
          2,
          3,
          2,
          3,
          2,
          1,
          1,
          2,
          2,
          3,
          2,
          2,
          1,
          8,
          6,
          6,
          4,
          6,
          4,
          1,
          8,
          8,
          4,
          1,
          4,
          12,
          3,
          10,
          4,
          4,
          6,
          4,
          8,
          5,
          6,
          11,
          12,
          21,
          12,
          14,
          17,
          22,
          16,
          13,
          22,
          18,
          21,
          35,
          23,
          23,
          34,
          44,
          35,
          25,
          18,
          34,
          32,
          31,
          37,
          42,
          40,
          47,
          55,
          104,
          113,
          61,
          74,
          55,
          57,
          54,
          83,
          63,
          57,
          62,
          109,
          116,
          151,
          115,
          87,
          98,
          124,
          98,
          134,
          138,
          158,
          152,
          137,
          161,
          193,
          179,
          192,
          135,
          163,
          147,
          165,
          127,
          171,
          179,
          203,
          226,
          229,
          206,
          195,
          170,
          183,
          191,
          162,
          184,
          159,
          139,
          176,
          222,
          215,
          187,
          197,
          153,
          139,
          124,
          192,
          230,
          157,
          173,
          190,
          188,
          252,
          202,
          184,
          153,
          161,
          173,
          180,
          140,
          173,
          160,
          194,
          193,
          216,
          183,
          217,
          185,
          189,
          206,
          291,
          308,
          228,
          221,
          266,
          284,
          268,
          215,
          152,
          152,
          167,
          165,
          203,
          184,
          161,
          178,
          144,
          166,
          194,
          150,
          174,
          168,
          118,
          138,
          145,
          127,
          87,
          88,
          96,
          107,
          128,
          93,
          108,
          79,
          65,
          86,
          107,
          108,
          96,
          98,
          99,
          102,
          89,
          81,
          26
         ],
         "yaxis": "y"
        }
       ],
       "layout": {
        "legend": {
         "tracegroupgap": 0
        },
        "template": {
         "data": {
          "bar": [
           {
            "error_x": {
             "color": "#2a3f5f"
            },
            "error_y": {
             "color": "#2a3f5f"
            },
            "marker": {
             "line": {
              "color": "#E5ECF6",
              "width": 0.5
             },
             "pattern": {
              "fillmode": "overlay",
              "size": 10,
              "solidity": 0.2
             }
            },
            "type": "bar"
           }
          ],
          "barpolar": [
           {
            "marker": {
             "line": {
              "color": "#E5ECF6",
              "width": 0.5
             },
             "pattern": {
              "fillmode": "overlay",
              "size": 10,
              "solidity": 0.2
             }
            },
            "type": "barpolar"
           }
          ],
          "carpet": [
           {
            "aaxis": {
             "endlinecolor": "#2a3f5f",
             "gridcolor": "white",
             "linecolor": "white",
             "minorgridcolor": "white",
             "startlinecolor": "#2a3f5f"
            },
            "baxis": {
             "endlinecolor": "#2a3f5f",
             "gridcolor": "white",
             "linecolor": "white",
             "minorgridcolor": "white",
             "startlinecolor": "#2a3f5f"
            },
            "type": "carpet"
           }
          ],
          "choropleth": [
           {
            "colorbar": {
             "outlinewidth": 0,
             "ticks": ""
            },
            "type": "choropleth"
           }
          ],
          "contour": [
           {
            "colorbar": {
             "outlinewidth": 0,
             "ticks": ""
            },
            "colorscale": [
             [
              0,
              "#0d0887"
             ],
             [
              0.1111111111111111,
              "#46039f"
             ],
             [
              0.2222222222222222,
              "#7201a8"
             ],
             [
              0.3333333333333333,
              "#9c179e"
             ],
             [
              0.4444444444444444,
              "#bd3786"
             ],
             [
              0.5555555555555556,
              "#d8576b"
             ],
             [
              0.6666666666666666,
              "#ed7953"
             ],
             [
              0.7777777777777778,
              "#fb9f3a"
             ],
             [
              0.8888888888888888,
              "#fdca26"
             ],
             [
              1,
              "#f0f921"
             ]
            ],
            "type": "contour"
           }
          ],
          "contourcarpet": [
           {
            "colorbar": {
             "outlinewidth": 0,
             "ticks": ""
            },
            "type": "contourcarpet"
           }
          ],
          "heatmap": [
           {
            "colorbar": {
             "outlinewidth": 0,
             "ticks": ""
            },
            "colorscale": [
             [
              0,
              "#0d0887"
             ],
             [
              0.1111111111111111,
              "#46039f"
             ],
             [
              0.2222222222222222,
              "#7201a8"
             ],
             [
              0.3333333333333333,
              "#9c179e"
             ],
             [
              0.4444444444444444,
              "#bd3786"
             ],
             [
              0.5555555555555556,
              "#d8576b"
             ],
             [
              0.6666666666666666,
              "#ed7953"
             ],
             [
              0.7777777777777778,
              "#fb9f3a"
             ],
             [
              0.8888888888888888,
              "#fdca26"
             ],
             [
              1,
              "#f0f921"
             ]
            ],
            "type": "heatmap"
           }
          ],
          "heatmapgl": [
           {
            "colorbar": {
             "outlinewidth": 0,
             "ticks": ""
            },
            "colorscale": [
             [
              0,
              "#0d0887"
             ],
             [
              0.1111111111111111,
              "#46039f"
             ],
             [
              0.2222222222222222,
              "#7201a8"
             ],
             [
              0.3333333333333333,
              "#9c179e"
             ],
             [
              0.4444444444444444,
              "#bd3786"
             ],
             [
              0.5555555555555556,
              "#d8576b"
             ],
             [
              0.6666666666666666,
              "#ed7953"
             ],
             [
              0.7777777777777778,
              "#fb9f3a"
             ],
             [
              0.8888888888888888,
              "#fdca26"
             ],
             [
              1,
              "#f0f921"
             ]
            ],
            "type": "heatmapgl"
           }
          ],
          "histogram": [
           {
            "marker": {
             "pattern": {
              "fillmode": "overlay",
              "size": 10,
              "solidity": 0.2
             }
            },
            "type": "histogram"
           }
          ],
          "histogram2d": [
           {
            "colorbar": {
             "outlinewidth": 0,
             "ticks": ""
            },
            "colorscale": [
             [
              0,
              "#0d0887"
             ],
             [
              0.1111111111111111,
              "#46039f"
             ],
             [
              0.2222222222222222,
              "#7201a8"
             ],
             [
              0.3333333333333333,
              "#9c179e"
             ],
             [
              0.4444444444444444,
              "#bd3786"
             ],
             [
              0.5555555555555556,
              "#d8576b"
             ],
             [
              0.6666666666666666,
              "#ed7953"
             ],
             [
              0.7777777777777778,
              "#fb9f3a"
             ],
             [
              0.8888888888888888,
              "#fdca26"
             ],
             [
              1,
              "#f0f921"
             ]
            ],
            "type": "histogram2d"
           }
          ],
          "histogram2dcontour": [
           {
            "colorbar": {
             "outlinewidth": 0,
             "ticks": ""
            },
            "colorscale": [
             [
              0,
              "#0d0887"
             ],
             [
              0.1111111111111111,
              "#46039f"
             ],
             [
              0.2222222222222222,
              "#7201a8"
             ],
             [
              0.3333333333333333,
              "#9c179e"
             ],
             [
              0.4444444444444444,
              "#bd3786"
             ],
             [
              0.5555555555555556,
              "#d8576b"
             ],
             [
              0.6666666666666666,
              "#ed7953"
             ],
             [
              0.7777777777777778,
              "#fb9f3a"
             ],
             [
              0.8888888888888888,
              "#fdca26"
             ],
             [
              1,
              "#f0f921"
             ]
            ],
            "type": "histogram2dcontour"
           }
          ],
          "mesh3d": [
           {
            "colorbar": {
             "outlinewidth": 0,
             "ticks": ""
            },
            "type": "mesh3d"
           }
          ],
          "parcoords": [
           {
            "line": {
             "colorbar": {
              "outlinewidth": 0,
              "ticks": ""
             }
            },
            "type": "parcoords"
           }
          ],
          "pie": [
           {
            "automargin": true,
            "type": "pie"
           }
          ],
          "scatter": [
           {
            "marker": {
             "colorbar": {
              "outlinewidth": 0,
              "ticks": ""
             }
            },
            "type": "scatter"
           }
          ],
          "scatter3d": [
           {
            "line": {
             "colorbar": {
              "outlinewidth": 0,
              "ticks": ""
             }
            },
            "marker": {
             "colorbar": {
              "outlinewidth": 0,
              "ticks": ""
             }
            },
            "type": "scatter3d"
           }
          ],
          "scattercarpet": [
           {
            "marker": {
             "colorbar": {
              "outlinewidth": 0,
              "ticks": ""
             }
            },
            "type": "scattercarpet"
           }
          ],
          "scattergeo": [
           {
            "marker": {
             "colorbar": {
              "outlinewidth": 0,
              "ticks": ""
             }
            },
            "type": "scattergeo"
           }
          ],
          "scattergl": [
           {
            "marker": {
             "colorbar": {
              "outlinewidth": 0,
              "ticks": ""
             }
            },
            "type": "scattergl"
           }
          ],
          "scattermapbox": [
           {
            "marker": {
             "colorbar": {
              "outlinewidth": 0,
              "ticks": ""
             }
            },
            "type": "scattermapbox"
           }
          ],
          "scatterpolar": [
           {
            "marker": {
             "colorbar": {
              "outlinewidth": 0,
              "ticks": ""
             }
            },
            "type": "scatterpolar"
           }
          ],
          "scatterpolargl": [
           {
            "marker": {
             "colorbar": {
              "outlinewidth": 0,
              "ticks": ""
             }
            },
            "type": "scatterpolargl"
           }
          ],
          "scatterternary": [
           {
            "marker": {
             "colorbar": {
              "outlinewidth": 0,
              "ticks": ""
             }
            },
            "type": "scatterternary"
           }
          ],
          "surface": [
           {
            "colorbar": {
             "outlinewidth": 0,
             "ticks": ""
            },
            "colorscale": [
             [
              0,
              "#0d0887"
             ],
             [
              0.1111111111111111,
              "#46039f"
             ],
             [
              0.2222222222222222,
              "#7201a8"
             ],
             [
              0.3333333333333333,
              "#9c179e"
             ],
             [
              0.4444444444444444,
              "#bd3786"
             ],
             [
              0.5555555555555556,
              "#d8576b"
             ],
             [
              0.6666666666666666,
              "#ed7953"
             ],
             [
              0.7777777777777778,
              "#fb9f3a"
             ],
             [
              0.8888888888888888,
              "#fdca26"
             ],
             [
              1,
              "#f0f921"
             ]
            ],
            "type": "surface"
           }
          ],
          "table": [
           {
            "cells": {
             "fill": {
              "color": "#EBF0F8"
             },
             "line": {
              "color": "white"
             }
            },
            "header": {
             "fill": {
              "color": "#C8D4E3"
             },
             "line": {
              "color": "white"
             }
            },
            "type": "table"
           }
          ]
         },
         "layout": {
          "annotationdefaults": {
           "arrowcolor": "#2a3f5f",
           "arrowhead": 0,
           "arrowwidth": 1
          },
          "autotypenumbers": "strict",
          "coloraxis": {
           "colorbar": {
            "outlinewidth": 0,
            "ticks": ""
           }
          },
          "colorscale": {
           "diverging": [
            [
             0,
             "#8e0152"
            ],
            [
             0.1,
             "#c51b7d"
            ],
            [
             0.2,
             "#de77ae"
            ],
            [
             0.3,
             "#f1b6da"
            ],
            [
             0.4,
             "#fde0ef"
            ],
            [
             0.5,
             "#f7f7f7"
            ],
            [
             0.6,
             "#e6f5d0"
            ],
            [
             0.7,
             "#b8e186"
            ],
            [
             0.8,
             "#7fbc41"
            ],
            [
             0.9,
             "#4d9221"
            ],
            [
             1,
             "#276419"
            ]
           ],
           "sequential": [
            [
             0,
             "#0d0887"
            ],
            [
             0.1111111111111111,
             "#46039f"
            ],
            [
             0.2222222222222222,
             "#7201a8"
            ],
            [
             0.3333333333333333,
             "#9c179e"
            ],
            [
             0.4444444444444444,
             "#bd3786"
            ],
            [
             0.5555555555555556,
             "#d8576b"
            ],
            [
             0.6666666666666666,
             "#ed7953"
            ],
            [
             0.7777777777777778,
             "#fb9f3a"
            ],
            [
             0.8888888888888888,
             "#fdca26"
            ],
            [
             1,
             "#f0f921"
            ]
           ],
           "sequentialminus": [
            [
             0,
             "#0d0887"
            ],
            [
             0.1111111111111111,
             "#46039f"
            ],
            [
             0.2222222222222222,
             "#7201a8"
            ],
            [
             0.3333333333333333,
             "#9c179e"
            ],
            [
             0.4444444444444444,
             "#bd3786"
            ],
            [
             0.5555555555555556,
             "#d8576b"
            ],
            [
             0.6666666666666666,
             "#ed7953"
            ],
            [
             0.7777777777777778,
             "#fb9f3a"
            ],
            [
             0.8888888888888888,
             "#fdca26"
            ],
            [
             1,
             "#f0f921"
            ]
           ]
          },
          "colorway": [
           "#636efa",
           "#EF553B",
           "#00cc96",
           "#ab63fa",
           "#FFA15A",
           "#19d3f3",
           "#FF6692",
           "#B6E880",
           "#FF97FF",
           "#FECB52"
          ],
          "font": {
           "color": "#2a3f5f"
          },
          "geo": {
           "bgcolor": "white",
           "lakecolor": "white",
           "landcolor": "#E5ECF6",
           "showlakes": true,
           "showland": true,
           "subunitcolor": "white"
          },
          "hoverlabel": {
           "align": "left"
          },
          "hovermode": "closest",
          "mapbox": {
           "style": "light"
          },
          "paper_bgcolor": "white",
          "plot_bgcolor": "#E5ECF6",
          "polar": {
           "angularaxis": {
            "gridcolor": "white",
            "linecolor": "white",
            "ticks": ""
           },
           "bgcolor": "#E5ECF6",
           "radialaxis": {
            "gridcolor": "white",
            "linecolor": "white",
            "ticks": ""
           }
          },
          "scene": {
           "xaxis": {
            "backgroundcolor": "#E5ECF6",
            "gridcolor": "white",
            "gridwidth": 2,
            "linecolor": "white",
            "showbackground": true,
            "ticks": "",
            "zerolinecolor": "white"
           },
           "yaxis": {
            "backgroundcolor": "#E5ECF6",
            "gridcolor": "white",
            "gridwidth": 2,
            "linecolor": "white",
            "showbackground": true,
            "ticks": "",
            "zerolinecolor": "white"
           },
           "zaxis": {
            "backgroundcolor": "#E5ECF6",
            "gridcolor": "white",
            "gridwidth": 2,
            "linecolor": "white",
            "showbackground": true,
            "ticks": "",
            "zerolinecolor": "white"
           }
          },
          "shapedefaults": {
           "line": {
            "color": "#2a3f5f"
           }
          },
          "ternary": {
           "aaxis": {
            "gridcolor": "white",
            "linecolor": "white",
            "ticks": ""
           },
           "baxis": {
            "gridcolor": "white",
            "linecolor": "white",
            "ticks": ""
           },
           "bgcolor": "#E5ECF6",
           "caxis": {
            "gridcolor": "white",
            "linecolor": "white",
            "ticks": ""
           }
          },
          "title": {
           "x": 0.05
          },
          "xaxis": {
           "automargin": true,
           "gridcolor": "white",
           "linecolor": "white",
           "ticks": "",
           "title": {
            "standoff": 15
           },
           "zerolinecolor": "white",
           "zerolinewidth": 2
          },
          "yaxis": {
           "automargin": true,
           "gridcolor": "white",
           "linecolor": "white",
           "ticks": "",
           "title": {
            "standoff": 15
           },
           "zerolinecolor": "white",
           "zerolinewidth": 2
          }
         }
        },
        "title": {
         "text": "Number of Reviews Over Time in Amazon Electronics Dept"
        },
        "xaxis": {
         "anchor": "y",
         "domain": [
          0,
          1
         ],
         "title": {
          "text": "Time (Month-Year)"
         }
        },
        "yaxis": {
         "anchor": "x",
         "domain": [
          0,
          1
         ],
         "title": {
          "text": "Number of Reviews"
         }
        }
       }
      },
      "text/html": [
       "<div>                            <div id=\"bdbed828-7b38-4273-be55-ae6270ddfd50\" class=\"plotly-graph-div\" style=\"height:525px; width:100%;\"></div>            <script type=\"text/javascript\">                require([\"plotly\"], function(Plotly) {                    window.PLOTLYENV=window.PLOTLYENV || {};                                    if (document.getElementById(\"bdbed828-7b38-4273-be55-ae6270ddfd50\")) {                    Plotly.newPlot(                        \"bdbed828-7b38-4273-be55-ae6270ddfd50\",                        [{\"hovertemplate\":\"Date: %{x}<br>Reviews: %{y}\",\"legendgroup\":\"\",\"line\":{\"color\":\"#636efa\",\"dash\":\"solid\"},\"marker\":{\"symbol\":\"circle\"},\"mode\":\"markers+lines\",\"name\":\"\",\"orientation\":\"v\",\"showlegend\":false,\"x\":[\"2003-05\",\"2004-04\",\"2004-05\",\"2004-06\",\"2004-07\",\"2004-08\",\"2004-10\",\"2004-11\",\"2004-12\",\"2005-07\",\"2005-10\",\"2006-01\",\"2006-05\",\"2006-06\",\"2006-08\",\"2006-09\",\"2006-12\",\"2007-01\",\"2007-03\",\"2007-05\",\"2007-07\",\"2007-09\",\"2007-10\",\"2007-11\",\"2007-12\",\"2008-02\",\"2008-03\",\"2008-04\",\"2008-05\",\"2008-06\",\"2008-07\",\"2008-08\",\"2008-09\",\"2008-10\",\"2008-11\",\"2008-12\",\"2009-01\",\"2009-02\",\"2009-03\",\"2009-04\",\"2009-05\",\"2009-06\",\"2009-07\",\"2009-08\",\"2009-09\",\"2009-10\",\"2009-11\",\"2009-12\",\"2010-01\",\"2010-02\",\"2010-03\",\"2010-04\",\"2010-05\",\"2010-06\",\"2010-07\",\"2010-08\",\"2010-09\",\"2010-10\",\"2010-11\",\"2010-12\",\"2011-01\",\"2011-02\",\"2011-03\",\"2011-04\",\"2011-05\",\"2011-06\",\"2011-07\",\"2011-08\",\"2011-09\",\"2011-10\",\"2011-11\",\"2011-12\",\"2012-01\",\"2012-02\",\"2012-03\",\"2012-04\",\"2012-05\",\"2012-06\",\"2012-07\",\"2012-08\",\"2012-09\",\"2012-10\",\"2012-11\",\"2012-12\",\"2013-01\",\"2013-02\",\"2013-03\",\"2013-04\",\"2013-05\",\"2013-06\",\"2013-07\",\"2013-08\",\"2013-09\",\"2013-10\",\"2013-11\",\"2013-12\",\"2014-01\",\"2014-02\",\"2014-03\",\"2014-04\",\"2014-05\",\"2014-06\",\"2014-07\",\"2014-08\",\"2014-09\",\"2014-10\",\"2014-11\",\"2014-12\",\"2015-01\",\"2015-02\",\"2015-03\",\"2015-04\",\"2015-05\",\"2015-06\",\"2015-07\",\"2015-08\",\"2015-09\",\"2015-10\",\"2015-11\",\"2015-12\",\"2016-01\",\"2016-02\",\"2016-03\",\"2016-04\",\"2016-05\",\"2016-06\",\"2016-07\",\"2016-08\",\"2016-09\",\"2016-10\",\"2016-11\",\"2016-12\",\"2017-01\",\"2017-02\",\"2017-03\",\"2017-04\",\"2017-05\",\"2017-06\",\"2017-07\",\"2017-08\",\"2017-09\",\"2017-10\",\"2017-11\",\"2017-12\",\"2018-01\",\"2018-02\",\"2018-03\",\"2018-04\",\"2018-05\",\"2018-06\",\"2018-07\",\"2018-08\",\"2018-09\",\"2018-10\",\"2018-11\",\"2018-12\",\"2019-01\",\"2019-02\",\"2019-03\",\"2019-04\",\"2019-05\",\"2019-06\",\"2019-07\",\"2019-08\",\"2019-09\",\"2019-10\",\"2019-11\",\"2019-12\",\"2020-01\",\"2020-02\",\"2020-03\",\"2020-04\",\"2020-05\",\"2020-06\",\"2020-07\",\"2020-08\",\"2020-09\",\"2020-10\",\"2020-11\",\"2020-12\",\"2021-01\",\"2021-02\",\"2021-03\",\"2021-04\",\"2021-05\",\"2021-06\",\"2021-07\",\"2021-08\",\"2021-09\",\"2021-10\",\"2021-11\",\"2021-12\",\"2022-01\",\"2022-02\",\"2022-03\",\"2022-04\",\"2022-05\",\"2022-06\",\"2022-07\",\"2022-08\",\"2022-09\",\"2022-10\",\"2022-11\",\"2022-12\",\"2023-01\",\"2023-02\",\"2023-03\"],\"xaxis\":\"x\",\"y\":[1,2,1,1,1,1,1,1,1,1,1,1,1,1,1,1,3,1,1,3,2,3,2,3,2,1,1,2,2,3,2,2,1,8,6,6,4,6,4,1,8,8,4,1,4,12,3,10,4,4,6,4,8,5,6,11,12,21,12,14,17,22,16,13,22,18,21,35,23,23,34,44,35,25,18,34,32,31,37,42,40,47,55,104,113,61,74,55,57,54,83,63,57,62,109,116,151,115,87,98,124,98,134,138,158,152,137,161,193,179,192,135,163,147,165,127,171,179,203,226,229,206,195,170,183,191,162,184,159,139,176,222,215,187,197,153,139,124,192,230,157,173,190,188,252,202,184,153,161,173,180,140,173,160,194,193,216,183,217,185,189,206,291,308,228,221,266,284,268,215,152,152,167,165,203,184,161,178,144,166,194,150,174,168,118,138,145,127,87,88,96,107,128,93,108,79,65,86,107,108,96,98,99,102,89,81,26],\"yaxis\":\"y\",\"type\":\"scatter\"}],                        {\"template\":{\"data\":{\"bar\":[{\"error_x\":{\"color\":\"#2a3f5f\"},\"error_y\":{\"color\":\"#2a3f5f\"},\"marker\":{\"line\":{\"color\":\"#E5ECF6\",\"width\":0.5},\"pattern\":{\"fillmode\":\"overlay\",\"size\":10,\"solidity\":0.2}},\"type\":\"bar\"}],\"barpolar\":[{\"marker\":{\"line\":{\"color\":\"#E5ECF6\",\"width\":0.5},\"pattern\":{\"fillmode\":\"overlay\",\"size\":10,\"solidity\":0.2}},\"type\":\"barpolar\"}],\"carpet\":[{\"aaxis\":{\"endlinecolor\":\"#2a3f5f\",\"gridcolor\":\"white\",\"linecolor\":\"white\",\"minorgridcolor\":\"white\",\"startlinecolor\":\"#2a3f5f\"},\"baxis\":{\"endlinecolor\":\"#2a3f5f\",\"gridcolor\":\"white\",\"linecolor\":\"white\",\"minorgridcolor\":\"white\",\"startlinecolor\":\"#2a3f5f\"},\"type\":\"carpet\"}],\"choropleth\":[{\"colorbar\":{\"outlinewidth\":0,\"ticks\":\"\"},\"type\":\"choropleth\"}],\"contour\":[{\"colorbar\":{\"outlinewidth\":0,\"ticks\":\"\"},\"colorscale\":[[0.0,\"#0d0887\"],[0.1111111111111111,\"#46039f\"],[0.2222222222222222,\"#7201a8\"],[0.3333333333333333,\"#9c179e\"],[0.4444444444444444,\"#bd3786\"],[0.5555555555555556,\"#d8576b\"],[0.6666666666666666,\"#ed7953\"],[0.7777777777777778,\"#fb9f3a\"],[0.8888888888888888,\"#fdca26\"],[1.0,\"#f0f921\"]],\"type\":\"contour\"}],\"contourcarpet\":[{\"colorbar\":{\"outlinewidth\":0,\"ticks\":\"\"},\"type\":\"contourcarpet\"}],\"heatmap\":[{\"colorbar\":{\"outlinewidth\":0,\"ticks\":\"\"},\"colorscale\":[[0.0,\"#0d0887\"],[0.1111111111111111,\"#46039f\"],[0.2222222222222222,\"#7201a8\"],[0.3333333333333333,\"#9c179e\"],[0.4444444444444444,\"#bd3786\"],[0.5555555555555556,\"#d8576b\"],[0.6666666666666666,\"#ed7953\"],[0.7777777777777778,\"#fb9f3a\"],[0.8888888888888888,\"#fdca26\"],[1.0,\"#f0f921\"]],\"type\":\"heatmap\"}],\"heatmapgl\":[{\"colorbar\":{\"outlinewidth\":0,\"ticks\":\"\"},\"colorscale\":[[0.0,\"#0d0887\"],[0.1111111111111111,\"#46039f\"],[0.2222222222222222,\"#7201a8\"],[0.3333333333333333,\"#9c179e\"],[0.4444444444444444,\"#bd3786\"],[0.5555555555555556,\"#d8576b\"],[0.6666666666666666,\"#ed7953\"],[0.7777777777777778,\"#fb9f3a\"],[0.8888888888888888,\"#fdca26\"],[1.0,\"#f0f921\"]],\"type\":\"heatmapgl\"}],\"histogram\":[{\"marker\":{\"pattern\":{\"fillmode\":\"overlay\",\"size\":10,\"solidity\":0.2}},\"type\":\"histogram\"}],\"histogram2d\":[{\"colorbar\":{\"outlinewidth\":0,\"ticks\":\"\"},\"colorscale\":[[0.0,\"#0d0887\"],[0.1111111111111111,\"#46039f\"],[0.2222222222222222,\"#7201a8\"],[0.3333333333333333,\"#9c179e\"],[0.4444444444444444,\"#bd3786\"],[0.5555555555555556,\"#d8576b\"],[0.6666666666666666,\"#ed7953\"],[0.7777777777777778,\"#fb9f3a\"],[0.8888888888888888,\"#fdca26\"],[1.0,\"#f0f921\"]],\"type\":\"histogram2d\"}],\"histogram2dcontour\":[{\"colorbar\":{\"outlinewidth\":0,\"ticks\":\"\"},\"colorscale\":[[0.0,\"#0d0887\"],[0.1111111111111111,\"#46039f\"],[0.2222222222222222,\"#7201a8\"],[0.3333333333333333,\"#9c179e\"],[0.4444444444444444,\"#bd3786\"],[0.5555555555555556,\"#d8576b\"],[0.6666666666666666,\"#ed7953\"],[0.7777777777777778,\"#fb9f3a\"],[0.8888888888888888,\"#fdca26\"],[1.0,\"#f0f921\"]],\"type\":\"histogram2dcontour\"}],\"mesh3d\":[{\"colorbar\":{\"outlinewidth\":0,\"ticks\":\"\"},\"type\":\"mesh3d\"}],\"parcoords\":[{\"line\":{\"colorbar\":{\"outlinewidth\":0,\"ticks\":\"\"}},\"type\":\"parcoords\"}],\"pie\":[{\"automargin\":true,\"type\":\"pie\"}],\"scatter\":[{\"marker\":{\"colorbar\":{\"outlinewidth\":0,\"ticks\":\"\"}},\"type\":\"scatter\"}],\"scatter3d\":[{\"line\":{\"colorbar\":{\"outlinewidth\":0,\"ticks\":\"\"}},\"marker\":{\"colorbar\":{\"outlinewidth\":0,\"ticks\":\"\"}},\"type\":\"scatter3d\"}],\"scattercarpet\":[{\"marker\":{\"colorbar\":{\"outlinewidth\":0,\"ticks\":\"\"}},\"type\":\"scattercarpet\"}],\"scattergeo\":[{\"marker\":{\"colorbar\":{\"outlinewidth\":0,\"ticks\":\"\"}},\"type\":\"scattergeo\"}],\"scattergl\":[{\"marker\":{\"colorbar\":{\"outlinewidth\":0,\"ticks\":\"\"}},\"type\":\"scattergl\"}],\"scattermapbox\":[{\"marker\":{\"colorbar\":{\"outlinewidth\":0,\"ticks\":\"\"}},\"type\":\"scattermapbox\"}],\"scatterpolar\":[{\"marker\":{\"colorbar\":{\"outlinewidth\":0,\"ticks\":\"\"}},\"type\":\"scatterpolar\"}],\"scatterpolargl\":[{\"marker\":{\"colorbar\":{\"outlinewidth\":0,\"ticks\":\"\"}},\"type\":\"scatterpolargl\"}],\"scatterternary\":[{\"marker\":{\"colorbar\":{\"outlinewidth\":0,\"ticks\":\"\"}},\"type\":\"scatterternary\"}],\"surface\":[{\"colorbar\":{\"outlinewidth\":0,\"ticks\":\"\"},\"colorscale\":[[0.0,\"#0d0887\"],[0.1111111111111111,\"#46039f\"],[0.2222222222222222,\"#7201a8\"],[0.3333333333333333,\"#9c179e\"],[0.4444444444444444,\"#bd3786\"],[0.5555555555555556,\"#d8576b\"],[0.6666666666666666,\"#ed7953\"],[0.7777777777777778,\"#fb9f3a\"],[0.8888888888888888,\"#fdca26\"],[1.0,\"#f0f921\"]],\"type\":\"surface\"}],\"table\":[{\"cells\":{\"fill\":{\"color\":\"#EBF0F8\"},\"line\":{\"color\":\"white\"}},\"header\":{\"fill\":{\"color\":\"#C8D4E3\"},\"line\":{\"color\":\"white\"}},\"type\":\"table\"}]},\"layout\":{\"annotationdefaults\":{\"arrowcolor\":\"#2a3f5f\",\"arrowhead\":0,\"arrowwidth\":1},\"autotypenumbers\":\"strict\",\"coloraxis\":{\"colorbar\":{\"outlinewidth\":0,\"ticks\":\"\"}},\"colorscale\":{\"diverging\":[[0,\"#8e0152\"],[0.1,\"#c51b7d\"],[0.2,\"#de77ae\"],[0.3,\"#f1b6da\"],[0.4,\"#fde0ef\"],[0.5,\"#f7f7f7\"],[0.6,\"#e6f5d0\"],[0.7,\"#b8e186\"],[0.8,\"#7fbc41\"],[0.9,\"#4d9221\"],[1,\"#276419\"]],\"sequential\":[[0.0,\"#0d0887\"],[0.1111111111111111,\"#46039f\"],[0.2222222222222222,\"#7201a8\"],[0.3333333333333333,\"#9c179e\"],[0.4444444444444444,\"#bd3786\"],[0.5555555555555556,\"#d8576b\"],[0.6666666666666666,\"#ed7953\"],[0.7777777777777778,\"#fb9f3a\"],[0.8888888888888888,\"#fdca26\"],[1.0,\"#f0f921\"]],\"sequentialminus\":[[0.0,\"#0d0887\"],[0.1111111111111111,\"#46039f\"],[0.2222222222222222,\"#7201a8\"],[0.3333333333333333,\"#9c179e\"],[0.4444444444444444,\"#bd3786\"],[0.5555555555555556,\"#d8576b\"],[0.6666666666666666,\"#ed7953\"],[0.7777777777777778,\"#fb9f3a\"],[0.8888888888888888,\"#fdca26\"],[1.0,\"#f0f921\"]]},\"colorway\":[\"#636efa\",\"#EF553B\",\"#00cc96\",\"#ab63fa\",\"#FFA15A\",\"#19d3f3\",\"#FF6692\",\"#B6E880\",\"#FF97FF\",\"#FECB52\"],\"font\":{\"color\":\"#2a3f5f\"},\"geo\":{\"bgcolor\":\"white\",\"lakecolor\":\"white\",\"landcolor\":\"#E5ECF6\",\"showlakes\":true,\"showland\":true,\"subunitcolor\":\"white\"},\"hoverlabel\":{\"align\":\"left\"},\"hovermode\":\"closest\",\"mapbox\":{\"style\":\"light\"},\"paper_bgcolor\":\"white\",\"plot_bgcolor\":\"#E5ECF6\",\"polar\":{\"angularaxis\":{\"gridcolor\":\"white\",\"linecolor\":\"white\",\"ticks\":\"\"},\"bgcolor\":\"#E5ECF6\",\"radialaxis\":{\"gridcolor\":\"white\",\"linecolor\":\"white\",\"ticks\":\"\"}},\"scene\":{\"xaxis\":{\"backgroundcolor\":\"#E5ECF6\",\"gridcolor\":\"white\",\"gridwidth\":2,\"linecolor\":\"white\",\"showbackground\":true,\"ticks\":\"\",\"zerolinecolor\":\"white\"},\"yaxis\":{\"backgroundcolor\":\"#E5ECF6\",\"gridcolor\":\"white\",\"gridwidth\":2,\"linecolor\":\"white\",\"showbackground\":true,\"ticks\":\"\",\"zerolinecolor\":\"white\"},\"zaxis\":{\"backgroundcolor\":\"#E5ECF6\",\"gridcolor\":\"white\",\"gridwidth\":2,\"linecolor\":\"white\",\"showbackground\":true,\"ticks\":\"\",\"zerolinecolor\":\"white\"}},\"shapedefaults\":{\"line\":{\"color\":\"#2a3f5f\"}},\"ternary\":{\"aaxis\":{\"gridcolor\":\"white\",\"linecolor\":\"white\",\"ticks\":\"\"},\"baxis\":{\"gridcolor\":\"white\",\"linecolor\":\"white\",\"ticks\":\"\"},\"bgcolor\":\"#E5ECF6\",\"caxis\":{\"gridcolor\":\"white\",\"linecolor\":\"white\",\"ticks\":\"\"}},\"title\":{\"x\":0.05},\"xaxis\":{\"automargin\":true,\"gridcolor\":\"white\",\"linecolor\":\"white\",\"ticks\":\"\",\"title\":{\"standoff\":15},\"zerolinecolor\":\"white\",\"zerolinewidth\":2},\"yaxis\":{\"automargin\":true,\"gridcolor\":\"white\",\"linecolor\":\"white\",\"ticks\":\"\",\"title\":{\"standoff\":15},\"zerolinecolor\":\"white\",\"zerolinewidth\":2}}},\"xaxis\":{\"anchor\":\"y\",\"domain\":[0.0,1.0],\"title\":{\"text\":\"Time (Month-Year)\"}},\"yaxis\":{\"anchor\":\"x\",\"domain\":[0.0,1.0],\"title\":{\"text\":\"Number of Reviews\"}},\"legend\":{\"tracegroupgap\":0},\"title\":{\"text\":\"Number of Reviews Over Time in Amazon Electronics Dept\"}},                        {\"responsive\": true}                    ).then(function(){\n",
       "                            \n",
       "var gd = document.getElementById('bdbed828-7b38-4273-be55-ae6270ddfd50');\n",
       "var x = new MutationObserver(function (mutations, observer) {{\n",
       "        var display = window.getComputedStyle(gd).display;\n",
       "        if (!display || display === 'none') {{\n",
       "            console.log([gd, 'removed!']);\n",
       "            Plotly.purge(gd);\n",
       "            observer.disconnect();\n",
       "        }}\n",
       "}});\n",
       "\n",
       "// Listen for the removal of the full notebook cells\n",
       "var notebookContainer = gd.closest('#notebook-container');\n",
       "if (notebookContainer) {{\n",
       "    x.observe(notebookContainer, {childList: true});\n",
       "}}\n",
       "\n",
       "// Listen for the clearing of the current output cell\n",
       "var outputEl = gd.closest('.output');\n",
       "if (outputEl) {{\n",
       "    x.observe(outputEl, {childList: true});\n",
       "}}\n",
       "\n",
       "                        })                };                });            </script>        </div>"
      ]
     },
     "metadata": {},
     "output_type": "display_data"
    }
   ],
   "source": [
    "import plotly.express as px\n",
    "\n",
    "final_df['date'] = pd.to_datetime(final_df['timestamp'], unit='ms')\n",
    "\n",
    "# group by month/year, count number of reviews per period\n",
    "reviews_per_month = final_df.groupby(final_df['date'].dt.to_period('M')).size().reset_index(name='review_count')\n",
    "\n",
    "reviews_per_month['date'] = reviews_per_month['date'].astype(str)\n",
    "\n",
    "fig = px.line(\n",
    "    reviews_per_month,\n",
    "    x='date',\n",
    "    y='review_count',\n",
    "    title='Number of Reviews Over Time in Amazon Electronics Dept',\n",
    "    labels={'date': 'Time (Month-Year)', 'review_count': 'Number of Reviews'},\n",
    "    markers=True\n",
    ")\n",
    "\n",
    "fig.update_traces(mode='markers+lines', hovertemplate='Date: %{x}<br>Reviews: %{y}')\n",
    "fig.show()"
   ]
  },
  {
   "cell_type": "markdown",
   "metadata": {},
   "source": [
    "#### Time-based analysis: Analyze how ratings have changed over time\n",
    "- Group by: year, month\n",
    "- Aggregation by: mean"
   ]
  },
  {
   "cell_type": "code",
   "execution_count": 70,
   "metadata": {},
   "outputs": [
    {
     "data": {
      "image/png": "[encoded data removed]",
      "text/plain": [
       "<Figure size 864x432 with 1 Axes>"
      ]
     },
     "metadata": {
      "needs_background": "light"
     },
     "output_type": "display_data"
    }
   ],
   "source": [
    "final_df['date'] = pd.to_datetime(final_df['timestamp'], unit='ms')\n",
    "\n",
    "# group by year and month to find avg rating\n",
    "final_df['year_month'] = final_df['date'].dt.to_period('M')\n",
    "avg_ratings_over_time = final_df.groupby('year_month')['rating'].mean()\n",
    "\n",
    "plt.figure(figsize=(12, 6))\n",
    "avg_ratings_over_time.plot(kind='line', color='orange')\n",
    "plt.title('Average Rating over Time Analysis', fontsize=16)  # Enlarge title\n",
    "plt.xlabel('Date', fontsize=14)  # Enlarge x-axis title\n",
    "plt.ylabel('Average Rating', fontsize=14)  # Enlarge y-axis title\n",
    "plt.xticks(rotation=45)\n",
    "plt.show()\n"
   ]
  },
  {
   "cell_type": "code",
   "execution_count": 52,
   "metadata": {},
   "outputs": [
    {
     "data": {
      "image/png": "[encoded data removed]",
      "text/plain": [
       "<Figure size 360x216 with 1 Axes>"
      ]
     },
     "metadata": {
      "needs_background": "light"
     },
     "output_type": "display_data"
    }
   ],
   "source": [
    "final_df['month'] = final_df['date'].dt.month\n",
    "final_df['year'] = final_df['date'].dt.year\n",
    "\n",
    "avg_rating_by_month = final_df.groupby('month')['rating'].mean()\n",
    "\n",
    "# num of reviews per month\n",
    "reviews_per_month = final_df.groupby('month').size()\n",
    "\n",
    "# reviews by month: seasonal trend\n",
    "plt.figure(figsize=(5, 3))\n",
    "reviews_per_month.plot(kind='bar', color='orange')\n",
    "plt.title('Number of Reviews by Month')\n",
    "plt.xlabel('Month')\n",
    "plt.ylabel('Number of Reviews')\n",
    "plt.xticks(rotation=45)\n",
    "plt.show()"
   ]
  },
  {
   "cell_type": "code",
   "execution_count": 53,
   "metadata": {},
   "outputs": [
    {
     "data": {
      "image/png": "[encoded data removed]",
      "text/plain": [
       "<Figure size 360x216 with 1 Axes>"
      ]
     },
     "metadata": {
      "needs_background": "light"
     },
     "output_type": "display_data"
    }
   ],
   "source": [
    "# 0=Monday, 6=Sunday\n",
    "final_df['day_of_week'] = final_df['date'].dt.dayofweek\n",
    "\n",
    "avg_rating_by_day = final_df.groupby('day_of_week')['rating'].mean()\n",
    "\n",
    "reviews_per_day = final_df.groupby('day_of_week').size()\n",
    "\n",
    "plt.figure(figsize=(5, 3))\n",
    "reviews_per_day.plot(kind='bar', color='skyblue')\n",
    "plt.title('Number of Reviews by Day of the Week')\n",
    "plt.xlabel('Day of the Week')\n",
    "plt.ylabel('Number of Reviews')\n",
    "plt.xticks([0, 1, 2, 3, 4, 5, 6], ['Mon', 'Tue', 'Wed', 'Thu', 'Fri', 'Sat', 'Sun'], rotation=45)\n",
    "plt.show()"
   ]
  },
  {
   "cell_type": "markdown",
   "metadata": {},
   "source": [
    "### User behavior analysis"
   ]
  },
  {
   "cell_type": "code",
   "execution_count": 54,
   "metadata": {
    "scrolled": true
   },
   "outputs": [
    {
     "data": {
      "image/png": "[encoded data removed]",
      "text/plain": [
       "<Figure size 360x216 with 1 Axes>"
      ]
     },
     "metadata": {
      "needs_background": "light"
     },
     "output_type": "display_data"
    }
   ],
   "source": [
    "# Time Between Reviews for Each User (Reviewing Frequency)\n",
    "# how often users review products -- frequent reviewers, post reviews intermittently?\n",
    "filtered_final_df = final_df.sort_values(by=['user_id', 'date'])\n",
    "\n",
    "# find time difference between consecutive reviews by the same user\n",
    "filtered_final_df['time_diff'] = filtered_final_df.groupby('user_id')['date'].diff()\n",
    "\n",
    "# Plot the time difference (in days) between consecutive reviews\n",
    "plt.figure(figsize=(5, 3))\n",
    "filtered_final_df['time_diff'].dropna().dt.days.hist(bins=50, color='lightgreen')\n",
    "plt.title('Time Between Reviews (User Frequency)')\n",
    "plt.xlabel('Time Between Reviews (days)')\n",
    "plt.ylabel('Number of Reviews')\n",
    "plt.show()\n"
   ]
  },
  {
   "cell_type": "markdown",
   "metadata": {},
   "source": [
    "### NLP: Sentiment analysis on `text`"
   ]
  },
  {
   "cell_type": "code",
   "execution_count": 55,
   "metadata": {
    "scrolled": true
   },
   "outputs": [
    {
     "name": "stdout",
     "output_type": "stream",
     "text": [
      "Requirement already satisfied: TextBlob in /Users/mengkong/opt/anaconda3/lib/python3.9/site-packages (0.18.0.post0)\n",
      "Requirement already satisfied: nltk>=3.8 in /Users/mengkong/opt/anaconda3/lib/python3.9/site-packages (from TextBlob) (3.9.1)\n",
      "Requirement already satisfied: joblib in /Users/mengkong/opt/anaconda3/lib/python3.9/site-packages (from nltk>=3.8->TextBlob) (1.1.0)\n",
      "Requirement already satisfied: click in /Users/mengkong/opt/anaconda3/lib/python3.9/site-packages (from nltk>=3.8->TextBlob) (8.0.4)\n",
      "Requirement already satisfied: regex>=2021.8.3 in /Users/mengkong/opt/anaconda3/lib/python3.9/site-packages (from nltk>=3.8->TextBlob) (2022.3.15)\n",
      "Requirement already satisfied: tqdm in /Users/mengkong/opt/anaconda3/lib/python3.9/site-packages (from nltk>=3.8->TextBlob) (4.64.0)\n",
      "Note: you may need to restart the kernel to use updated packages.\n"
     ]
    }
   ],
   "source": [
    "pip install TextBlob"
   ]
  },
  {
   "cell_type": "code",
   "execution_count": 56,
   "metadata": {},
   "outputs": [
    {
     "data": {
      "image/png": "[encoded data removed]",
      "text/plain": [
       "<Figure size 864x432 with 1 Axes>"
      ]
     },
     "metadata": {
      "needs_background": "light"
     },
     "output_type": "display_data"
    }
   ],
   "source": [
    "from textblob import TextBlob\n",
    "\n",
    "\n",
    "# sentiment analysis, track how sentiment changes over time\n",
    "final_df['sentiment'] = final_df['text'].apply(lambda x: TextBlob(x).sentiment.polarity)\n",
    "\n",
    "\n",
    "avg_sentiment_per_month = final_df.groupby(final_df['date'].dt.to_period('M'))['sentiment'].mean()\n",
    "\n",
    "plt.figure(figsize=(12, 6))\n",
    "avg_sentiment_per_month.plot(kind='line', color='red', marker='o')\n",
    "plt.title('Average Sentiment Over Time in Amazon Electronics dept')\n",
    "plt.xlabel('Time (Month-Year)')\n",
    "plt.ylabel('Average Sentiment')\n",
    "plt.xticks(rotation=45)\n",
    "plt.show()\n"
   ]
  },
  {
   "cell_type": "code",
   "execution_count": 57,
   "metadata": {},
   "outputs": [
    {
     "data": {
      "image/png": "[encoded data removed]",
      "text/plain": [
       "<Figure size 360x216 with 1 Axes>"
      ]
     },
     "metadata": {
      "needs_background": "light"
     },
     "output_type": "display_data"
    }
   ],
   "source": [
    "# reviews' rating distr\n",
    "plt.figure(figsize=(5,3))\n",
    "sns.countplot(x='rating', data=final_df, palette=\"Set2\")\n",
    "plt.title(\"Distribution of Ratings\")\n",
    "plt.xlabel(\"Rating\")\n",
    "plt.ylabel(\"Count\")\n",
    "plt.show()"
   ]
  },
  {
   "cell_type": "code",
   "execution_count": 58,
   "metadata": {},
   "outputs": [
    {
     "data": {
      "text/plain": [
       "Index(['rating', 'title', 'text', 'images', 'asin', 'parent_asin', 'user_id',\n",
       "       'timestamp', 'helpful_vote', 'verified_purchase', 'review_length',\n",
       "       'date', 'year_month', 'month', 'year', 'day_of_week', 'sentiment'],\n",
       "      dtype='object')"
      ]
     },
     "execution_count": 58,
     "metadata": {},
     "output_type": "execute_result"
    }
   ],
   "source": [
    "final_df.columns"
   ]
  },
  {
   "cell_type": "markdown",
   "metadata": {},
   "source": [
    "# Task 2: Identify a predictive task"
   ]
  },
  {
   "cell_type": "markdown",
   "metadata": {},
   "source": [
    "**Predictive task ideas:** \n",
    "- Idea 1: Predict an item's future rating based on temporal trends, user's review and metadata (from the `reviews` dataset)\n",
    "    - As Dr. M mentioned, it's good to question things like \"Does the product rating fluctuate over seasons? If the product is used in different hemispheres, will it have better ratings in one hemisphere over the other?\"\n",
    "    - Need to use: past `ratings`, `timestamp`'s, `verified_purchase` indicators, and most importanty USER behavior. \n",
    "    - Type of task: time series regression (predict continuous var `rating` (1 to 5) by finding correlations b/w dependent & independent vars)\n",
    "- Idea 2: Predict the number of reviews of an item over time (also temporal)\n",
    "- Idea 3: Predict the helpfulness of a review \n",
    "    - data on user interaction with that item, increase/ decrease of ratings over time of that specific item, stats of the review's `helpful_vote`\n",
    "\n",
    "\n",
    "**Features for the Predictive Task**\n",
    "- `text` (where the user writes the reviews).\n",
    "- metadata for the item (`asin`) \n",
    "    - `title`, `asin`, `verified_purchase`, `timestamp` (temporal info), etc.\n",
    "- `user_id`\n",
    "\n",
    "**How to Process Features**\n",
    "\n",
    "For `text`:\n",
    "- Try vectorizing using TF-IDF or Word2Vec (NOT BERT, as there's too much fine-tuning required) to represent `text`. \n",
    "    - Function: Converse free-text data into numerical vectors.\n",
    "    - **Note from Joyce:** I've worked with BERT models (specifically NER tasks), and they are very time-intensive. Due to the nature of Assignment 2 and its time constraints, I'd strongly advise against playing around with BERT. Most likely will not have time to fine-tune and obtain decent evaluation metrics.\n",
    "- Preprocess `text` by removing stop words, punctuation, and lowercase everything. \n",
    "- Please refer to Dr. McAuley's [Chapter 8 Lecture Workbook](https://cseweb.ucsd.edu/~jmcauley/pml/code/chap8.html) for the pre-processing functions. \n",
    "\n",
    "\n",
    "For item's `asin`, `title`, etc. (as you see fit):\n",
    "- `title`: Just as you did for `text`, vectorize `title` free-text with TF-IDF to extract features.\n",
    "- `asin`: this is CATEGORICAL data, so try one-hot encoding if needed for the selected models\n",
    "\n",
    "\n",
    "For temporal `timestamp`:\n",
    "- Extract into Year, Month, Day, Hour, Day of Week, etc. \n",
    "- Just as I've done in the Data exploration/ Visualization sections above, you may use these features to capture seasonal effects or time-sensitive behavior trends\n",
    "\n",
    "\n",
    "For `helpful_vote`: \n",
    "- I'm not sure if this is a MAIN feature to incorporate with first, but could be great if `helpful_vote` could be used to provide extra context on how an item could be rated (prediction component).\n",
    "\n",
    "\n",
    "For `verified_purchase`:\n",
    "- This is bascially a boolean var, so if you see more `False` pop up for Item X, that could possibly help you determine how to predict the rating for it. Likewise, if you see more `True` pop up and most ratings are decent (you'll have to set that threshold of what's considered as 'decent'), then that could also help influence the way you predict ratings for items.\n",
    "\n",
    "\n",
    "### What to also account for: \n",
    "- Sean and Mengkong will need to deicde how to set the thresholds for predicting rating scores. \n"
   ]
  },
  {
   "cell_type": "markdown",
   "metadata": {},
   "source": [
    "### Model Selections\n",
    "\n",
    "**[Week 9 Modeling Temporal and Sequence Data: ](https://cseweb.ucsd.edu/~jmcauley/pml/code/chap7.html)**\n",
    "- Review lecture from Tuesday, 11/26 to see how to fit a temporal model for temporal predictive questions.\n",
    "- Look for the code where Dr. M plots Time Series Regression models. \n",
    "\n",
    "**[Week 2's Linear Regression](https://cseweb.ucsd.edu/~jmcauley/pml/code/chap2.html) (Baseline model):**\n",
    "- The simplest model for our predictive task, and can quicky show performance metrics with the features selected.\n",
    "- Gives: Mean absolute error\n",
    "- Might not be the best model, as trends for ratings generally aren't linear. There's a LOT of features that are going to be implemented, so the most basic linear regression model most likely won't product good performance. \n",
    "    - Linear regression variables are assumed to be constant over time, without any fluctuations, which is not the case here. Ratings will be affected by seasonal/ weather and social trends... and these factors most definitely fluctuate! \n",
    "\n",
    "**Random Forest Regressor**\n",
    "- by taking account of both categorical (`asin`) and continuous features, this ensemble model will not need any scaling\n",
    "\n",
    "\n",
    "### How to assess model prediction validity:\n",
    "- Split `final_df` (filtered, NOT the raw reviews dataset) into training and test sets based on CHRONOLOGICAL constraints, NOT by random splits. If we use random splits, then the model will run into 'look-ahead bias.' Look-ahead bias is where the model will have data on future timestamps' data when it shouldn't be able to look that far ahead yet. So this would be a model's way of cheating and using future data to predict past timestamps' reviews/ ratings/ helpfulness for a given item. \n",
    "    - 80/20 or 70/30 should be fine. \n",
    "- Finding MAE\n",
    "    - measures averaage magnitude of errors, so the lower the MAE, the better the regression model performed.\n",
    "    - LOWER MAE = HIGHER ACCURACY\n",
    "\n",
    "- Finding RMSE\n",
    "    - penalizes large errors (differences are squared), can use this if we are finding LARGE errors.\n",
    "    - LOWER RMSE = HIGHER ACCURACY\n",
    "    - can even use MSE if preferred"
   ]
  },
  {
   "cell_type": "markdown",
   "metadata": {},
   "source": [
    "# Final notes to Group B: Sean and Mengkong\n",
    "Dr. McAuley emphasized during class today (11/26) that it's HIGHLY recommended to NOT use any models outside of what's been taught in class. Our peer reviewers will be doing the bulk of the grading, so it's best we use models that they are all familiar with, as well. The predictive tasks I've suggested are all within the bounds of what's been taught in DSC 256R thus far, but if any clarification is needed, please let me know. Thanks!"
   ]
  },
  {
   "cell_type": "markdown",
   "metadata": {},
   "source": [
    "## Meta Dataset \n",
    "Meta dataset will NOT be analyzed, `reviews` seems much more promising to use for predictive tasks.\n",
    "- Item Metadata (descriptions, price, raw image, etc.);"
   ]
  },
  {
   "cell_type": "markdown",
   "metadata": {},
   "source": [
    "# Task 3 - Mengkong Aun"
   ]
  },
  {
   "cell_type": "code",
   "execution_count": 59,
   "metadata": {},
   "outputs": [
    {
     "name": "stdout",
     "output_type": "stream",
     "text": [
      "<class 'pandas.core.frame.DataFrame'>\n",
      "RangeIndex: 20000 entries, 0 to 19999\n",
      "Data columns (total 17 columns):\n",
      " #   Column             Non-Null Count  Dtype         \n",
      "---  ------             --------------  -----         \n",
      " 0   rating             20000 non-null  float64       \n",
      " 1   title              20000 non-null  object        \n",
      " 2   text               20000 non-null  object        \n",
      " 3   images             20000 non-null  object        \n",
      " 4   asin               20000 non-null  object        \n",
      " 5   parent_asin        20000 non-null  object        \n",
      " 6   user_id            20000 non-null  object        \n",
      " 7   timestamp          20000 non-null  int64         \n",
      " 8   helpful_vote       20000 non-null  int64         \n",
      " 9   verified_purchase  20000 non-null  bool          \n",
      " 10  review_length      20000 non-null  int64         \n",
      " 11  date               20000 non-null  datetime64[ns]\n",
      " 12  year_month         20000 non-null  period[M]     \n",
      " 13  month              20000 non-null  int64         \n",
      " 14  year               20000 non-null  int64         \n",
      " 15  day_of_week        20000 non-null  int64         \n",
      " 16  sentiment          20000 non-null  float64       \n",
      "dtypes: bool(1), datetime64[ns](1), float64(2), int64(6), object(6), period[M](1)\n",
      "memory usage: 2.5+ MB\n"
     ]
    }
   ],
   "source": [
    "final_df.info()"
   ]
  },
  {
   "cell_type": "code",
   "execution_count": 60,
   "metadata": {},
   "outputs": [
    {
     "name": "stderr",
     "output_type": "stream",
     "text": [
      "/var/folders/gf/gkj903p94yq2kw64t3v327940000gn/T/ipykernel_17293/686955233.py:16: SettingWithCopyWarning:\n",
      "\n",
      "\n",
      "A value is trying to be set on a copy of a slice from a DataFrame.\n",
      "Try using .loc[row_indexer,col_indexer] = value instead\n",
      "\n",
      "See the caveats in the documentation: https://pandas.pydata.org/pandas-docs/stable/user_guide/indexing.html#returning-a-view-versus-a-copy\n",
      "\n"
     ]
    }
   ],
   "source": [
    "from sklearn.model_selection import train_test_split, GridSearchCV\n",
    "from sklearn.metrics import mean_absolute_error, mean_squared_error\n",
    "from sklearn.linear_model import LinearRegression, Ridge, Lasso\n",
    "from sklearn.tree import DecisionTreeRegressor\n",
    "from sklearn.ensemble import RandomForestRegressor, GradientBoostingRegressor\n",
    "from sklearn.decomposition import TruncatedSVD\n",
    "from sklearn.preprocessing import PolynomialFeatures\n",
    "import matplotlib.pyplot as plt\n",
    "\n",
    "# Assuming `final_df` is the preprocessed dataset with necessary columns\n",
    "features = ['review_length', 'sentiment', 'month', 'year', 'day_of_week', 'verified_purchase']\n",
    "target = 'rating'\n",
    "\n",
    "X = final_df[features]\n",
    "y = final_df[target]\n",
    "X['verified_purchase'] = X['verified_purchase'].astype(int)\n",
    "\n",
    "# Train-test split\n",
    "X_train, X_test, y_train, y_test = train_test_split(X, y, test_size=0.3, shuffle=False)\n",
    "\n",
    "# Function to evaluate models\n",
    "def evaluate_model(model, model_name):\n",
    "    model.fit(X_train, y_train)\n",
    "    y_pred = model.predict(X_test)\n",
    "    mae = mean_absolute_error(y_test, y_pred)\n",
    "    rmse = np.sqrt(mean_squared_error(y_test, y_pred))\n",
    "    print(f\"{model_name} - MAE: {mae:.4f}, RMSE: {rmse:.4f}\")\n",
    "    return model_name, mae, rmse\n",
    "\n",
    "# Store results for comparison\n",
    "results = []"
   ]
  },
  {
   "cell_type": "markdown",
   "metadata": {},
   "source": [
    "### Model - Linear Regression"
   ]
  },
  {
   "cell_type": "code",
   "execution_count": 61,
   "metadata": {},
   "outputs": [
    {
     "name": "stdout",
     "output_type": "stream",
     "text": [
      "Model #1: Linear Regression - MAE: 0.8018, RMSE: 1.0635\n",
      "Model #2: Linear Regression with Polynomial Features - MAE: 0.8018, RMSE: 1.0635\n"
     ]
    }
   ],
   "source": [
    "# Model #1: Linear Regression\n",
    "lr = LinearRegression()\n",
    "results.append(evaluate_model(lr, \"Model #1: Linear Regression\"))\n",
    "\n",
    "# Model #2: Linear Regression with Polynomial Features\n",
    "poly = PolynomialFeatures(degree=2)\n",
    "X_train_poly = poly.fit_transform(X_train)\n",
    "X_test_poly = poly.transform(X_test)\n",
    "lr_poly = LinearRegression()\n",
    "results.append(evaluate_model(lr_poly, \"Model #2: Linear Regression with Polynomial Features\"))\n"
   ]
  },
  {
   "cell_type": "markdown",
   "metadata": {},
   "source": [
    "### Model - Ridge Regression\n"
   ]
  },
  {
   "cell_type": "code",
   "execution_count": 62,
   "metadata": {},
   "outputs": [
    {
     "name": "stdout",
     "output_type": "stream",
     "text": [
      "Model #3: Ridge Regression - MAE: 0.8018, RMSE: 1.0635\n",
      "Model #4: Ridge Regression (Tuned) - MAE: 0.7980, RMSE: 1.0633\n"
     ]
    }
   ],
   "source": [
    "# Model #3: Ridge Regression\n",
    "ridge = Ridge(alpha=1.0)\n",
    "results.append(evaluate_model(ridge, \"Model #3: Ridge Regression\"))\n",
    "\n",
    "# Model #4: Ridge Regression (Tuned)\n",
    "ridge_params = {'alpha': [0.01, 0.1, 1, 10, 100]}\n",
    "ridge_grid = GridSearchCV(Ridge(), ridge_params, scoring='neg_mean_absolute_error', cv=5)\n",
    "ridge_grid.fit(X_train, y_train)\n",
    "best_ridge = ridge_grid.best_estimator_\n",
    "results.append(evaluate_model(best_ridge, \"Model #4: Ridge Regression (Tuned)\"))\n"
   ]
  },
  {
   "cell_type": "markdown",
   "metadata": {},
   "source": [
    "### Model - Lasso Regression"
   ]
  },
  {
   "cell_type": "code",
   "execution_count": 63,
   "metadata": {},
   "outputs": [
    {
     "name": "stdout",
     "output_type": "stream",
     "text": [
      "Model #5: Lasso Regression - MAE: 0.7979, RMSE: 1.0633\n",
      "Model #6: Lasso Regression (Tuned) - MAE: 0.7979, RMSE: 1.0633\n"
     ]
    }
   ],
   "source": [
    "# Model #5: Lasso Regression\n",
    "lasso = Lasso(alpha=0.01, max_iter=10000)\n",
    "results.append(evaluate_model(lasso, \"Model #5: Lasso Regression\"))\n",
    "\n",
    "# Model #6: Lasso Regression (Tuned)\n",
    "lasso_params = {'alpha': [0.01, 0.1, 1, 10, 100]}\n",
    "lasso_grid = GridSearchCV(Lasso(max_iter=10000), lasso_params, scoring='neg_mean_absolute_error', cv=5)\n",
    "lasso_grid.fit(X_train, y_train)\n",
    "best_lasso = lasso_grid.best_estimator_\n",
    "results.append(evaluate_model(best_lasso, \"Model #6: Lasso Regression (Tuned)\"))\n"
   ]
  },
  {
   "cell_type": "markdown",
   "metadata": {},
   "source": [
    "### Model - Decision Tree Regressor"
   ]
  },
  {
   "cell_type": "code",
   "execution_count": 64,
   "metadata": {},
   "outputs": [
    {
     "name": "stdout",
     "output_type": "stream",
     "text": [
      "Model #7: Decision Tree Regressor - MAE: 0.7800, RMSE: 1.1208\n",
      "Model #8: Decision Tree Regressor (Tuned) - MAE: 0.7596, RMSE: 1.0402\n"
     ]
    }
   ],
   "source": [
    "# Model #7: Decision Tree Regressor\n",
    "dt = DecisionTreeRegressor(random_state=42, max_depth=10)\n",
    "results.append(evaluate_model(dt, \"Model #7: Decision Tree Regressor\"))\n",
    "\n",
    "# Model #8: Decision Tree Regressor (Tuned)\n",
    "dt_params = {'max_depth': [5, 10, 20, None], 'min_samples_split': [2, 5, 10], 'min_samples_leaf': [1, 2, 4]}\n",
    "dt_grid = GridSearchCV(DecisionTreeRegressor(random_state=42), dt_params, scoring='neg_mean_absolute_error', cv=5)\n",
    "dt_grid.fit(X_train, y_train)\n",
    "best_dt = dt_grid.best_estimator_\n",
    "results.append(evaluate_model(best_dt, \"Model #8: Decision Tree Regressor (Tuned)\"))\n"
   ]
  },
  {
   "cell_type": "markdown",
   "metadata": {},
   "source": [
    "### Model - Random Forest Regressor"
   ]
  },
  {
   "cell_type": "code",
   "execution_count": 65,
   "metadata": {},
   "outputs": [
    {
     "name": "stdout",
     "output_type": "stream",
     "text": [
      "Model #9: Random Forest Regressor - MAE: 0.7616, RMSE: 1.0441\n",
      "Model #10: Random Forest Regressor (Tuned) - MAE: 0.7581, RMSE: 1.0330\n"
     ]
    }
   ],
   "source": [
    "# Model #9: Random Forest Regressor\n",
    "rf = RandomForestRegressor(n_estimators=100, max_depth=10, random_state=42)\n",
    "results.append(evaluate_model(rf, \"Model #9: Random Forest Regressor\"))\n",
    "\n",
    "# Model #10: Random Forest Regressor (Tuned)\n",
    "rf_params = {'n_estimators': [100, 200], 'max_depth': [10, 20, None], 'max_features': ['sqrt', 'log2'], 'min_samples_split': [2, 5]}\n",
    "rf_grid = GridSearchCV(RandomForestRegressor(random_state=42), rf_params, scoring='neg_mean_absolute_error', cv=5)\n",
    "rf_grid.fit(X_train, y_train)\n",
    "best_rf = rf_grid.best_estimator_\n",
    "results.append(evaluate_model(best_rf, \"Model #10: Random Forest Regressor (Tuned)\"))\n"
   ]
  },
  {
   "cell_type": "markdown",
   "metadata": {},
   "source": [
    "### Model - Gradient Boosting Regressor"
   ]
  },
  {
   "cell_type": "code",
   "execution_count": 66,
   "metadata": {},
   "outputs": [
    {
     "name": "stdout",
     "output_type": "stream",
     "text": [
      "Model #11: Gradient Boosting Regressor - MAE: 0.7537, RMSE: 1.0294\n",
      "Model #12: Gradient Boosting Regressor (Tuned) - MAE: 0.7537, RMSE: 1.0321\n"
     ]
    }
   ],
   "source": [
    "# Model #11: Gradient Boosting Regressor\n",
    "gbr = GradientBoostingRegressor(n_estimators=100, learning_rate=0.1, max_depth=3, random_state=42)\n",
    "results.append(evaluate_model(gbr, \"Model #11: Gradient Boosting Regressor\"))\n",
    "\n",
    "# Model #12: Gradient Boosting Regressor (Tuned)\n",
    "gbr_params = {'n_estimators': [100, 200], 'learning_rate': [0.01, 0.1], 'max_depth': [3, 5], 'subsample': [0.7, 1.0]}\n",
    "gbr_grid = GridSearchCV(GradientBoostingRegressor(random_state=42), gbr_params, scoring='neg_mean_absolute_error', cv=5)\n",
    "gbr_grid.fit(X_train, y_train)\n",
    "best_gbr = gbr_grid.best_estimator_\n",
    "results.append(evaluate_model(best_gbr, \"Model #12: Gradient Boosting Regressor (Tuned)\"))\n"
   ]
  },
  {
   "cell_type": "markdown",
   "metadata": {},
   "source": [
    "### Model - Matrix Factorization (SVD)"
   ]
  },
  {
   "cell_type": "code",
   "execution_count": 67,
   "metadata": {},
   "outputs": [
    {
     "name": "stdout",
     "output_type": "stream",
     "text": [
      "Model #13: Matrix Factorization (SVD) - MAE: 0.8018, RMSE: 1.0635\n",
      "Model #14: Matrix Factorization with Polynomial Features - MAE: 0.8018, RMSE: 1.0635\n"
     ]
    }
   ],
   "source": [
    "# Model #13: Matrix Factorization (SVD)\n",
    "svd = TruncatedSVD(n_components=5, random_state=42)\n",
    "X_svd_train = svd.fit_transform(X_train)\n",
    "X_svd_test = svd.transform(X_test)\n",
    "lr_svd = LinearRegression()\n",
    "results.append(evaluate_model(lr_svd, \"Model #13: Matrix Factorization (SVD)\"))\n",
    "\n",
    "# Model #14: Matrix Factorization with Polynomial Features\n",
    "poly_svd = PolynomialFeatures(degree=2)\n",
    "X_svd_poly_train = poly_svd.fit_transform(X_svd_train)\n",
    "X_svd_poly_test = poly_svd.transform(X_svd_test)\n",
    "lr_poly_svd = LinearRegression()\n",
    "results.append(evaluate_model(lr_poly_svd, \"Model #14: Matrix Factorization with Polynomial Features\"))\n"
   ]
  },
  {
   "cell_type": "markdown",
   "metadata": {},
   "source": [
    "### Model - Timeseries Regression"
   ]
  },
  {
   "cell_type": "code",
   "execution_count": 68,
   "metadata": {},
   "outputs": [
    {
     "name": "stdout",
     "output_type": "stream",
     "text": [
      "Model #15: Timeseries Regression (GBR) - MAE: 0.7521, RMSE: 1.0313\n"
     ]
    }
   ],
   "source": [
    "# Prepare timeseries-specific data by sorting the dataset by date\n",
    "final_df = final_df.sort_values(by='year')\n",
    "\n",
    "# Train-test split chronologically (already done, so no shuffle is applied)\n",
    "X_train, X_test, y_train, y_test = train_test_split(X, y, test_size=0.2, shuffle=False)\n",
    "\n",
    "# Model #15: Timeseries Regression using Gradient Boosting\n",
    "gbr_timeseries = GradientBoostingRegressor(n_estimators=100, learning_rate=0.1, max_depth=3, random_state=42)\n",
    "results.append(evaluate_model(gbr_timeseries, \"Model #15: Timeseries Regression (GBR)\"))\n"
   ]
  },
  {
   "cell_type": "markdown",
   "metadata": {},
   "source": [
    "### Comparison of Results"
   ]
  },
  {
   "cell_type": "code",
   "execution_count": 69,
   "metadata": {},
   "outputs": [
    {
     "data": {
      "image/png": "[encoded data removed]",
      "text/plain": [
       "<Figure size 864x432 with 2 Axes>"
      ]
     },
     "metadata": {
      "needs_background": "light"
     },
     "output_type": "display_data"
    },
    {
     "name": "stdout",
     "output_type": "stream",
     "text": [
      "\n",
      "Model Performance Comparison:\n",
      "                                                Model       MAE      RMSE\n",
      "0                         Model #1: Linear Regression  0.801821  1.063462\n",
      "1   Model #2: Linear Regression with Polynomial Fe...  0.801821  1.063462\n",
      "2                          Model #3: Ridge Regression  0.801771  1.063454\n",
      "3                  Model #4: Ridge Regression (Tuned)  0.797971  1.063330\n",
      "4                          Model #5: Lasso Regression  0.797865  1.063320\n",
      "5                  Model #6: Lasso Regression (Tuned)  0.797865  1.063320\n",
      "6                   Model #7: Decision Tree Regressor  0.779989  1.120806\n",
      "7           Model #8: Decision Tree Regressor (Tuned)  0.759601  1.040152\n",
      "8                   Model #9: Random Forest Regressor  0.761625  1.044109\n",
      "9          Model #10: Random Forest Regressor (Tuned)  0.758120  1.033031\n",
      "10             Model #11: Gradient Boosting Regressor  0.753651  1.029400\n",
      "11     Model #12: Gradient Boosting Regressor (Tuned)  0.753699  1.032081\n",
      "12              Model #13: Matrix Factorization (SVD)  0.801821  1.063462\n",
      "13  Model #14: Matrix Factorization with Polynomia...  0.801821  1.063462\n",
      "14             Model #15: Timeseries Regression (GBR)  0.752109  1.031324\n"
     ]
    }
   ],
   "source": [
    "results_df = pd.DataFrame(results, columns=[\"Model\", \"MAE\", \"RMSE\"])\n",
    "\n",
    "# Visualization\n",
    "plt.figure(figsize=(12, 6))\n",
    "\n",
    "# MAE Comparison\n",
    "plt.subplot(1, 2, 1)\n",
    "plt.barh(results_df[\"Model\"], results_df[\"MAE\"], color=\"skyblue\")\n",
    "plt.title(\"Model Comparison (MAE)\")\n",
    "plt.xlabel(\"Mean Absolute Error\")\n",
    "\n",
    "# RMSE Comparison\n",
    "plt.subplot(1, 2, 2)\n",
    "plt.barh(results_df[\"Model\"], results_df[\"RMSE\"], color=\"orange\")\n",
    "plt.title(\"Model Comparison (RMSE)\")\n",
    "plt.xlabel(\"Root Mean Squared Error\")\n",
    "\n",
    "plt.tight_layout()\n",
    "plt.show()\n",
    "\n",
    "# Print Results\n",
    "print(\"\\nModel Performance Comparison:\")\n",
    "print(results_df)"
   ]
  },
  {
   "cell_type": "code",
   "execution_count": null,
   "metadata": {},
   "outputs": [],
   "source": []
  }
 ],
 "metadata": {
  "kernelspec": {
   "display_name": "Python 3 (ipykernel)",
   "language": "python",
   "name": "python3"
  },
  "language_info": {
   "codemirror_mode": {
    "name": "ipython",
    "version": 3
   },
   "file_extension": ".py",
   "mimetype": "text/x-python",
   "name": "python",
   "nbconvert_exporter": "python",
   "pygments_lexer": "ipython3",
   "version": "3.9.12"
  }
 },
 "nbformat": 4,
 "nbformat_minor": 2
}
